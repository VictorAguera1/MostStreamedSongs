{
 "cells": [
  {
   "cell_type": "markdown",
   "metadata": {},
   "source": [
    "# Importando bibliotecas e dados"
   ]
  },
  {
   "cell_type": "code",
   "execution_count": 1,
   "metadata": {},
   "outputs": [],
   "source": [
    "import pandas as pd \n",
    "import matplotlib.pyplot as plt  # Importando a biblioteca para plotar gráficos.\n",
    "from scipy import stats  # Trazendo funções para estatísticas e análises de dados.\n",
    "import seaborn as sns # visualização de dados aprofundada\n",
    "df = pd.read_csv(r'C:\\Users\\victo\\Documents\\Base de dados\\songs.csv')"
   ]
  },
  {
   "cell_type": "markdown",
   "metadata": {},
   "source": []
  },
  {
   "cell_type": "markdown",
   "metadata": {},
   "source": [
    "# Checagem inicial dos dados + Limpeza dos dados"
   ]
  },
  {
   "cell_type": "code",
   "execution_count": 2,
   "metadata": {},
   "outputs": [
    {
     "name": "stdout",
     "output_type": "stream",
     "text": [
      "track_name              object\n",
      "artist(s)_name          object\n",
      "artist_count             int64\n",
      "released_year            int64\n",
      "released_month           int64\n",
      "released_day             int64\n",
      "in_spotify_playlists     int64\n",
      "in_spotify_charts        int64\n",
      "streams                 object\n",
      "in_apple_playlists       int64\n",
      "in_apple_charts          int64\n",
      "in_deezer_playlists     object\n",
      "in_deezer_charts         int64\n",
      "in_shazam_charts        object\n",
      "bpm                      int64\n",
      "key                     object\n",
      "mode                    object\n",
      "danceability_%           int64\n",
      "valence_%                int64\n",
      "energy_%                 int64\n",
      "acousticness_%           int64\n",
      "instrumentalness_%       int64\n",
      "liveness_%               int64\n",
      "speechiness_%            int64\n",
      "cover_url               object\n",
      "dtype: object\n",
      "Total de duplicatas: 0\n",
      "in_shazam_charts    50\n",
      "key                 95\n",
      "dtype: int64\n",
      "Valores faltantes após a limpeza (linhas): Series([], dtype: int64)\n",
      "Valores faltantes após a limpeza (colunas): Series([], dtype: int64)\n",
      "Número de Outliers detectados: 174\n",
      "<class 'pandas.core.frame.DataFrame'>\n",
      "Index: 779 entries, 1 to 952\n",
      "Data columns (total 25 columns):\n",
      " #   Column                Non-Null Count  Dtype \n",
      "---  ------                --------------  ----- \n",
      " 0   track_name            779 non-null    object\n",
      " 1   artist(s)_name        779 non-null    object\n",
      " 2   artist_count          779 non-null    int64 \n",
      " 3   released_year         779 non-null    int64 \n",
      " 4   released_month        779 non-null    int64 \n",
      " 5   released_day          779 non-null    int64 \n",
      " 6   in_spotify_playlists  779 non-null    int64 \n",
      " 7   in_spotify_charts     779 non-null    int64 \n",
      " 8   streams               779 non-null    object\n",
      " 9   in_apple_playlists    779 non-null    int64 \n",
      " 10  in_apple_charts       779 non-null    int64 \n",
      " 11  in_deezer_playlists   779 non-null    object\n",
      " 12  in_deezer_charts      779 non-null    int64 \n",
      " 13  in_shazam_charts      745 non-null    object\n",
      " 14  bpm                   779 non-null    int64 \n",
      " 15  key                   704 non-null    object\n",
      " 16  mode                  779 non-null    object\n",
      " 17  danceability_%        779 non-null    int64 \n",
      " 18  valence_%             779 non-null    int64 \n",
      " 19  energy_%              779 non-null    int64 \n",
      " 20  acousticness_%        779 non-null    int64 \n",
      " 21  instrumentalness_%    779 non-null    int64 \n",
      " 22  liveness_%            779 non-null    int64 \n",
      " 23  speechiness_%         779 non-null    int64 \n",
      " 24  cover_url             779 non-null    object\n",
      "dtypes: int64(17), object(8)\n",
      "memory usage: 158.2+ KB\n"
     ]
    }
   ],
   "source": [
    "# Checando tipo de dado de cada coluna\n",
    "tipo_dados = df.dtypes\n",
    "print(tipo_dados)\n",
    "\n",
    "# Checando duplicatas\n",
    "duplicatas = df.duplicated().sum()\n",
    "print(f'Total de duplicatas: {duplicatas}')\n",
    "\n",
    "# Identificando possíveis valores faltantes \n",
    "faltantes = df.isnull().sum()\n",
    "print(faltantes[faltantes > 0])\n",
    "\n",
    "# Eliminando linhas com valores ausentes\n",
    "df_limpo_linhas = df.dropna()\n",
    "\n",
    "# Eliminando colunas com valores ausentes\n",
    "df_limpo_colunas = df.dropna(axis=1)\n",
    "\n",
    "# Checando valores faltantes após a limpeza\n",
    "faltantes_limpo_linhas = df_limpo_linhas.isnull().sum()\n",
    "faltantes_limpo_colunas = df_limpo_colunas.isnull().sum()\n",
    "\n",
    "print(f'Valores faltantes após a limpeza (linhas): {faltantes_limpo_linhas[faltantes_limpo_linhas > 0]}')\n",
    "print(f'Valores faltantes após a limpeza (colunas): {faltantes_limpo_colunas[faltantes_limpo_colunas > 0]}')\n",
    "\n",
    "# Identificando Outliers utilizando Z-score \n",
    "# Z-score: Se um determinado ponto x resultar em um z-score > 3.0 ou < -3.0, então x é considerado um outlier.\n",
    "\n",
    "# Calculando Z-score para as colunas numéricas\n",
    "z_scores = stats.zscore(df.select_dtypes(include=['float64', 'int64']))\n",
    "\n",
    "# Identificando os outliers (maiores que 3 ou menores que -3 em qualquer eixo)\n",
    "df_outliers = df[(z_scores > 3).any(axis=1) | (z_scores < -3).any(axis=1)]\n",
    "\n",
    "# Número de outliers detectados\n",
    "print(f'Número de Outliers detectados: {df_outliers.shape[0]}')\n",
    "\n",
    "# Removendo Outliers detectados\n",
    "df_novo = df[(z_scores < 3).all(axis=1) & (z_scores > -3).all(axis=1)]\n",
    "df_novo.info()"
   ]
  },
  {
   "cell_type": "markdown",
   "metadata": {},
   "source": [
    "# Visualizando os dados"
   ]
  },
  {
   "cell_type": "code",
   "execution_count": 3,
   "metadata": {},
   "outputs": [
    {
     "data": {
      "text/html": [
       "<div>\n",
       "<style scoped>\n",
       "    .dataframe tbody tr th:only-of-type {\n",
       "        vertical-align: middle;\n",
       "    }\n",
       "\n",
       "    .dataframe tbody tr th {\n",
       "        vertical-align: top;\n",
       "    }\n",
       "\n",
       "    .dataframe thead th {\n",
       "        text-align: right;\n",
       "    }\n",
       "</style>\n",
       "<table border=\"1\" class=\"dataframe\">\n",
       "  <thead>\n",
       "    <tr style=\"text-align: right;\">\n",
       "      <th></th>\n",
       "      <th>track_name</th>\n",
       "      <th>artist(s)_name</th>\n",
       "      <th>artist_count</th>\n",
       "      <th>released_year</th>\n",
       "      <th>released_month</th>\n",
       "      <th>released_day</th>\n",
       "      <th>in_spotify_playlists</th>\n",
       "      <th>in_spotify_charts</th>\n",
       "      <th>streams</th>\n",
       "      <th>in_apple_playlists</th>\n",
       "      <th>in_apple_charts</th>\n",
       "      <th>in_deezer_playlists</th>\n",
       "      <th>in_deezer_charts</th>\n",
       "      <th>in_shazam_charts</th>\n",
       "      <th>bpm</th>\n",
       "      <th>key</th>\n",
       "      <th>mode</th>\n",
       "      <th>danceability_%</th>\n",
       "      <th>valence_%</th>\n",
       "      <th>energy_%</th>\n",
       "      <th>acousticness_%</th>\n",
       "      <th>instrumentalness_%</th>\n",
       "      <th>liveness_%</th>\n",
       "      <th>speechiness_%</th>\n",
       "      <th>cover_url</th>\n",
       "    </tr>\n",
       "  </thead>\n",
       "  <tbody>\n",
       "    <tr>\n",
       "      <th>1</th>\n",
       "      <td>LALA</td>\n",
       "      <td>Myke Towers</td>\n",
       "      <td>1</td>\n",
       "      <td>2023</td>\n",
       "      <td>3</td>\n",
       "      <td>23</td>\n",
       "      <td>1474</td>\n",
       "      <td>48</td>\n",
       "      <td>133716286</td>\n",
       "      <td>48</td>\n",
       "      <td>126</td>\n",
       "      <td>58</td>\n",
       "      <td>14</td>\n",
       "      <td>382</td>\n",
       "      <td>92</td>\n",
       "      <td>C#</td>\n",
       "      <td>Major</td>\n",
       "      <td>71</td>\n",
       "      <td>61</td>\n",
       "      <td>74</td>\n",
       "      <td>7</td>\n",
       "      <td>0</td>\n",
       "      <td>10</td>\n",
       "      <td>4</td>\n",
       "      <td>https://i.scdn.co/image/ab67616d0000b2730656d5...</td>\n",
       "    </tr>\n",
       "    <tr>\n",
       "      <th>7</th>\n",
       "      <td>Columbia</td>\n",
       "      <td>Quevedo</td>\n",
       "      <td>1</td>\n",
       "      <td>2023</td>\n",
       "      <td>7</td>\n",
       "      <td>7</td>\n",
       "      <td>714</td>\n",
       "      <td>43</td>\n",
       "      <td>58149378</td>\n",
       "      <td>25</td>\n",
       "      <td>89</td>\n",
       "      <td>30</td>\n",
       "      <td>13</td>\n",
       "      <td>194</td>\n",
       "      <td>100</td>\n",
       "      <td>F</td>\n",
       "      <td>Major</td>\n",
       "      <td>67</td>\n",
       "      <td>26</td>\n",
       "      <td>71</td>\n",
       "      <td>37</td>\n",
       "      <td>0</td>\n",
       "      <td>11</td>\n",
       "      <td>4</td>\n",
       "      <td>https://i.scdn.co/image/ab67616d0000b273a00a81...</td>\n",
       "    </tr>\n",
       "    <tr>\n",
       "      <th>9</th>\n",
       "      <td>La Bebe - Remix</td>\n",
       "      <td>Peso Pluma, Yng Lvcas</td>\n",
       "      <td>2</td>\n",
       "      <td>2023</td>\n",
       "      <td>3</td>\n",
       "      <td>17</td>\n",
       "      <td>2953</td>\n",
       "      <td>44</td>\n",
       "      <td>553634067</td>\n",
       "      <td>49</td>\n",
       "      <td>110</td>\n",
       "      <td>66</td>\n",
       "      <td>13</td>\n",
       "      <td>339</td>\n",
       "      <td>170</td>\n",
       "      <td>D</td>\n",
       "      <td>Minor</td>\n",
       "      <td>81</td>\n",
       "      <td>56</td>\n",
       "      <td>48</td>\n",
       "      <td>21</td>\n",
       "      <td>0</td>\n",
       "      <td>8</td>\n",
       "      <td>33</td>\n",
       "      <td>Not Found</td>\n",
       "    </tr>\n",
       "    <tr>\n",
       "      <th>11</th>\n",
       "      <td>Super Shy</td>\n",
       "      <td>NewJeans</td>\n",
       "      <td>1</td>\n",
       "      <td>2023</td>\n",
       "      <td>7</td>\n",
       "      <td>7</td>\n",
       "      <td>422</td>\n",
       "      <td>55</td>\n",
       "      <td>58255150</td>\n",
       "      <td>37</td>\n",
       "      <td>202</td>\n",
       "      <td>21</td>\n",
       "      <td>5</td>\n",
       "      <td>168</td>\n",
       "      <td>150</td>\n",
       "      <td>F</td>\n",
       "      <td>Minor</td>\n",
       "      <td>78</td>\n",
       "      <td>52</td>\n",
       "      <td>82</td>\n",
       "      <td>18</td>\n",
       "      <td>0</td>\n",
       "      <td>15</td>\n",
       "      <td>7</td>\n",
       "      <td>https://i.scdn.co/image/ab67616d0000b2733d98a0...</td>\n",
       "    </tr>\n",
       "    <tr>\n",
       "      <th>18</th>\n",
       "      <td>Classy 101</td>\n",
       "      <td>Feid, Young Miko</td>\n",
       "      <td>2</td>\n",
       "      <td>2023</td>\n",
       "      <td>3</td>\n",
       "      <td>31</td>\n",
       "      <td>2610</td>\n",
       "      <td>40</td>\n",
       "      <td>335222234</td>\n",
       "      <td>43</td>\n",
       "      <td>100</td>\n",
       "      <td>54</td>\n",
       "      <td>14</td>\n",
       "      <td>187</td>\n",
       "      <td>100</td>\n",
       "      <td>B</td>\n",
       "      <td>Major</td>\n",
       "      <td>86</td>\n",
       "      <td>67</td>\n",
       "      <td>66</td>\n",
       "      <td>14</td>\n",
       "      <td>0</td>\n",
       "      <td>12</td>\n",
       "      <td>16</td>\n",
       "      <td>https://i.scdn.co/image/ab67616d0000b27329ebee...</td>\n",
       "    </tr>\n",
       "  </tbody>\n",
       "</table>\n",
       "</div>"
      ],
      "text/plain": [
       "         track_name         artist(s)_name  artist_count  released_year  \\\n",
       "1              LALA            Myke Towers             1           2023   \n",
       "7          Columbia                Quevedo             1           2023   \n",
       "9   La Bebe - Remix  Peso Pluma, Yng Lvcas             2           2023   \n",
       "11        Super Shy               NewJeans             1           2023   \n",
       "18       Classy 101       Feid, Young Miko             2           2023   \n",
       "\n",
       "    released_month  released_day  in_spotify_playlists  in_spotify_charts  \\\n",
       "1                3            23                  1474                 48   \n",
       "7                7             7                   714                 43   \n",
       "9                3            17                  2953                 44   \n",
       "11               7             7                   422                 55   \n",
       "18               3            31                  2610                 40   \n",
       "\n",
       "      streams  in_apple_playlists  in_apple_charts in_deezer_playlists  \\\n",
       "1   133716286                  48              126                  58   \n",
       "7    58149378                  25               89                  30   \n",
       "9   553634067                  49              110                  66   \n",
       "11   58255150                  37              202                  21   \n",
       "18  335222234                  43              100                  54   \n",
       "\n",
       "    in_deezer_charts in_shazam_charts  bpm key   mode  danceability_%  \\\n",
       "1                 14              382   92  C#  Major              71   \n",
       "7                 13              194  100   F  Major              67   \n",
       "9                 13              339  170   D  Minor              81   \n",
       "11                 5              168  150   F  Minor              78   \n",
       "18                14              187  100   B  Major              86   \n",
       "\n",
       "    valence_%  energy_%  acousticness_%  instrumentalness_%  liveness_%  \\\n",
       "1          61        74               7                   0          10   \n",
       "7          26        71              37                   0          11   \n",
       "9          56        48              21                   0           8   \n",
       "11         52        82              18                   0          15   \n",
       "18         67        66              14                   0          12   \n",
       "\n",
       "    speechiness_%                                          cover_url  \n",
       "1               4  https://i.scdn.co/image/ab67616d0000b2730656d5...  \n",
       "7               4  https://i.scdn.co/image/ab67616d0000b273a00a81...  \n",
       "9              33                                          Not Found  \n",
       "11              7  https://i.scdn.co/image/ab67616d0000b2733d98a0...  \n",
       "18             16  https://i.scdn.co/image/ab67616d0000b27329ebee...  "
      ]
     },
     "execution_count": 3,
     "metadata": {},
     "output_type": "execute_result"
    }
   ],
   "source": [
    "# Configurando Pandas para exibir todas as colunas\n",
    "pd.set_option('display.max_columns', None)\n",
    "# Visualizando data frame \n",
    "df_novo.head()"
   ]
  },
  {
   "cell_type": "code",
   "execution_count": 4,
   "metadata": {},
   "outputs": [
    {
     "name": "stdout",
     "output_type": "stream",
     "text": [
      "<class 'pandas.core.frame.DataFrame'>\n",
      "Index: 779 entries, 1 to 952\n",
      "Data columns (total 25 columns):\n",
      " #   Column                Non-Null Count  Dtype \n",
      "---  ------                --------------  ----- \n",
      " 0   track_name            779 non-null    object\n",
      " 1   artist(s)_name        779 non-null    object\n",
      " 2   artist_count          779 non-null    int64 \n",
      " 3   released_year         779 non-null    int64 \n",
      " 4   released_month        779 non-null    int64 \n",
      " 5   released_day          779 non-null    int64 \n",
      " 6   in_spotify_playlists  779 non-null    int64 \n",
      " 7   in_spotify_charts     779 non-null    int64 \n",
      " 8   streams               779 non-null    object\n",
      " 9   in_apple_playlists    779 non-null    int64 \n",
      " 10  in_apple_charts       779 non-null    int64 \n",
      " 11  in_deezer_playlists   779 non-null    object\n",
      " 12  in_deezer_charts      779 non-null    int64 \n",
      " 13  in_shazam_charts      745 non-null    object\n",
      " 14  bpm                   779 non-null    int64 \n",
      " 15  key                   704 non-null    object\n",
      " 16  mode                  779 non-null    object\n",
      " 17  danceability_%        779 non-null    int64 \n",
      " 18  valence_%             779 non-null    int64 \n",
      " 19  energy_%              779 non-null    int64 \n",
      " 20  acousticness_%        779 non-null    int64 \n",
      " 21  instrumentalness_%    779 non-null    int64 \n",
      " 22  liveness_%            779 non-null    int64 \n",
      " 23  speechiness_%         779 non-null    int64 \n",
      " 24  cover_url             779 non-null    object\n",
      "dtypes: int64(17), object(8)\n",
      "memory usage: 158.2+ KB\n",
      "Index(['track_name', 'artist(s)_name', 'artist_count', 'released_year',\n",
      "       'released_month', 'released_day', 'in_spotify_playlists',\n",
      "       'in_spotify_charts', 'streams', 'in_apple_playlists', 'in_apple_charts',\n",
      "       'in_deezer_playlists', 'in_deezer_charts', 'in_shazam_charts', 'bpm',\n",
      "       'key', 'mode', 'danceability_%', 'valence_%', 'energy_%',\n",
      "       'acousticness_%', 'instrumentalness_%', 'liveness_%', 'speechiness_%',\n",
      "       'cover_url'],\n",
      "      dtype='object')\n",
      "Linhas e Colunas do DF: (779, 25)\n"
     ]
    }
   ],
   "source": [
    "# Informações básicas do data frame\n",
    "df_novo.info()\n",
    "\n",
    "# Visualizando o nome das colunas\n",
    "print(df_novo.columns)\n",
    "\n",
    "# Visualizando linhas e colunas \n",
    "print(f'Linhas e Colunas do DF: {df_novo.shape}')\n"
   ]
  },
  {
   "cell_type": "markdown",
   "metadata": {},
   "source": [
    "# Estatistica de resumo"
   ]
  },
  {
   "cell_type": "code",
   "execution_count": 5,
   "metadata": {},
   "outputs": [
    {
     "data": {
      "text/html": [
       "<div>\n",
       "<style scoped>\n",
       "    .dataframe tbody tr th:only-of-type {\n",
       "        vertical-align: middle;\n",
       "    }\n",
       "\n",
       "    .dataframe tbody tr th {\n",
       "        vertical-align: top;\n",
       "    }\n",
       "\n",
       "    .dataframe thead th {\n",
       "        text-align: right;\n",
       "    }\n",
       "</style>\n",
       "<table border=\"1\" class=\"dataframe\">\n",
       "  <thead>\n",
       "    <tr style=\"text-align: right;\">\n",
       "      <th></th>\n",
       "      <th>artist_count</th>\n",
       "      <th>released_year</th>\n",
       "      <th>released_month</th>\n",
       "      <th>released_day</th>\n",
       "      <th>in_spotify_playlists</th>\n",
       "      <th>in_spotify_charts</th>\n",
       "      <th>in_apple_playlists</th>\n",
       "      <th>in_apple_charts</th>\n",
       "      <th>in_deezer_charts</th>\n",
       "      <th>bpm</th>\n",
       "      <th>danceability_%</th>\n",
       "      <th>valence_%</th>\n",
       "      <th>energy_%</th>\n",
       "      <th>acousticness_%</th>\n",
       "      <th>instrumentalness_%</th>\n",
       "      <th>liveness_%</th>\n",
       "      <th>speechiness_%</th>\n",
       "    </tr>\n",
       "  </thead>\n",
       "  <tbody>\n",
       "    <tr>\n",
       "      <th>count</th>\n",
       "      <td>779.000000</td>\n",
       "      <td>779.000000</td>\n",
       "      <td>779.000000</td>\n",
       "      <td>779.000000</td>\n",
       "      <td>779.000000</td>\n",
       "      <td>779.000000</td>\n",
       "      <td>779.000000</td>\n",
       "      <td>779.000000</td>\n",
       "      <td>779.000000</td>\n",
       "      <td>779.000000</td>\n",
       "      <td>779.000000</td>\n",
       "      <td>779.000000</td>\n",
       "      <td>779.000000</td>\n",
       "      <td>779.000000</td>\n",
       "      <td>779.000000</td>\n",
       "      <td>779.000000</td>\n",
       "      <td>779.000000</td>\n",
       "    </tr>\n",
       "    <tr>\n",
       "      <th>mean</th>\n",
       "      <td>1.507060</td>\n",
       "      <td>2020.390244</td>\n",
       "      <td>6.134788</td>\n",
       "      <td>14.340180</td>\n",
       "      <td>3696.139923</td>\n",
       "      <td>9.878049</td>\n",
       "      <td>52.726573</td>\n",
       "      <td>45.600770</td>\n",
       "      <td>1.915276</td>\n",
       "      <td>122.682927</td>\n",
       "      <td>67.376123</td>\n",
       "      <td>50.825417</td>\n",
       "      <td>64.216945</td>\n",
       "      <td>26.758665</td>\n",
       "      <td>0.522465</td>\n",
       "      <td>17.077022</td>\n",
       "      <td>9.946085</td>\n",
       "    </tr>\n",
       "    <tr>\n",
       "      <th>std</th>\n",
       "      <td>0.728339</td>\n",
       "      <td>4.550681</td>\n",
       "      <td>3.515819</td>\n",
       "      <td>9.106401</td>\n",
       "      <td>4723.689483</td>\n",
       "      <td>14.365296</td>\n",
       "      <td>58.863080</td>\n",
       "      <td>43.469767</td>\n",
       "      <td>3.958397</td>\n",
       "      <td>28.083942</td>\n",
       "      <td>14.311302</td>\n",
       "      <td>23.441286</td>\n",
       "      <td>16.135127</td>\n",
       "      <td>25.873000</td>\n",
       "      <td>2.652146</td>\n",
       "      <td>11.011059</td>\n",
       "      <td>9.033338</td>\n",
       "    </tr>\n",
       "    <tr>\n",
       "      <th>min</th>\n",
       "      <td>1.000000</td>\n",
       "      <td>1985.000000</td>\n",
       "      <td>1.000000</td>\n",
       "      <td>1.000000</td>\n",
       "      <td>34.000000</td>\n",
       "      <td>0.000000</td>\n",
       "      <td>0.000000</td>\n",
       "      <td>0.000000</td>\n",
       "      <td>0.000000</td>\n",
       "      <td>65.000000</td>\n",
       "      <td>25.000000</td>\n",
       "      <td>4.000000</td>\n",
       "      <td>16.000000</td>\n",
       "      <td>0.000000</td>\n",
       "      <td>0.000000</td>\n",
       "      <td>3.000000</td>\n",
       "      <td>2.000000</td>\n",
       "    </tr>\n",
       "    <tr>\n",
       "      <th>25%</th>\n",
       "      <td>1.000000</td>\n",
       "      <td>2021.000000</td>\n",
       "      <td>3.000000</td>\n",
       "      <td>6.000000</td>\n",
       "      <td>821.500000</td>\n",
       "      <td>0.000000</td>\n",
       "      <td>12.000000</td>\n",
       "      <td>6.000000</td>\n",
       "      <td>0.000000</td>\n",
       "      <td>99.000000</td>\n",
       "      <td>58.000000</td>\n",
       "      <td>32.000000</td>\n",
       "      <td>53.500000</td>\n",
       "      <td>5.000000</td>\n",
       "      <td>0.000000</td>\n",
       "      <td>10.000000</td>\n",
       "      <td>4.000000</td>\n",
       "    </tr>\n",
       "    <tr>\n",
       "      <th>50%</th>\n",
       "      <td>1.000000</td>\n",
       "      <td>2022.000000</td>\n",
       "      <td>6.000000</td>\n",
       "      <td>13.000000</td>\n",
       "      <td>1963.000000</td>\n",
       "      <td>3.000000</td>\n",
       "      <td>29.000000</td>\n",
       "      <td>31.000000</td>\n",
       "      <td>0.000000</td>\n",
       "      <td>121.000000</td>\n",
       "      <td>70.000000</td>\n",
       "      <td>50.000000</td>\n",
       "      <td>66.000000</td>\n",
       "      <td>18.000000</td>\n",
       "      <td>0.000000</td>\n",
       "      <td>12.000000</td>\n",
       "      <td>6.000000</td>\n",
       "    </tr>\n",
       "    <tr>\n",
       "      <th>75%</th>\n",
       "      <td>2.000000</td>\n",
       "      <td>2022.000000</td>\n",
       "      <td>9.000000</td>\n",
       "      <td>22.000000</td>\n",
       "      <td>4521.000000</td>\n",
       "      <td>15.000000</td>\n",
       "      <td>72.000000</td>\n",
       "      <td>79.000000</td>\n",
       "      <td>1.000000</td>\n",
       "      <td>141.000000</td>\n",
       "      <td>78.000000</td>\n",
       "      <td>69.000000</td>\n",
       "      <td>77.000000</td>\n",
       "      <td>42.000000</td>\n",
       "      <td>0.000000</td>\n",
       "      <td>22.000000</td>\n",
       "      <td>12.000000</td>\n",
       "    </tr>\n",
       "    <tr>\n",
       "      <th>max</th>\n",
       "      <td>4.000000</td>\n",
       "      <td>2023.000000</td>\n",
       "      <td>12.000000</td>\n",
       "      <td>31.000000</td>\n",
       "      <td>28032.000000</td>\n",
       "      <td>69.000000</td>\n",
       "      <td>315.000000</td>\n",
       "      <td>202.000000</td>\n",
       "      <td>20.000000</td>\n",
       "      <td>206.000000</td>\n",
       "      <td>96.000000</td>\n",
       "      <td>97.000000</td>\n",
       "      <td>97.000000</td>\n",
       "      <td>97.000000</td>\n",
       "      <td>24.000000</td>\n",
       "      <td>58.000000</td>\n",
       "      <td>39.000000</td>\n",
       "    </tr>\n",
       "  </tbody>\n",
       "</table>\n",
       "</div>"
      ],
      "text/plain": [
       "       artist_count  released_year  released_month  released_day  \\\n",
       "count    779.000000     779.000000      779.000000    779.000000   \n",
       "mean       1.507060    2020.390244        6.134788     14.340180   \n",
       "std        0.728339       4.550681        3.515819      9.106401   \n",
       "min        1.000000    1985.000000        1.000000      1.000000   \n",
       "25%        1.000000    2021.000000        3.000000      6.000000   \n",
       "50%        1.000000    2022.000000        6.000000     13.000000   \n",
       "75%        2.000000    2022.000000        9.000000     22.000000   \n",
       "max        4.000000    2023.000000       12.000000     31.000000   \n",
       "\n",
       "       in_spotify_playlists  in_spotify_charts  in_apple_playlists  \\\n",
       "count            779.000000         779.000000          779.000000   \n",
       "mean            3696.139923           9.878049           52.726573   \n",
       "std             4723.689483          14.365296           58.863080   \n",
       "min               34.000000           0.000000            0.000000   \n",
       "25%              821.500000           0.000000           12.000000   \n",
       "50%             1963.000000           3.000000           29.000000   \n",
       "75%             4521.000000          15.000000           72.000000   \n",
       "max            28032.000000          69.000000          315.000000   \n",
       "\n",
       "       in_apple_charts  in_deezer_charts         bpm  danceability_%  \\\n",
       "count       779.000000        779.000000  779.000000      779.000000   \n",
       "mean         45.600770          1.915276  122.682927       67.376123   \n",
       "std          43.469767          3.958397   28.083942       14.311302   \n",
       "min           0.000000          0.000000   65.000000       25.000000   \n",
       "25%           6.000000          0.000000   99.000000       58.000000   \n",
       "50%          31.000000          0.000000  121.000000       70.000000   \n",
       "75%          79.000000          1.000000  141.000000       78.000000   \n",
       "max         202.000000         20.000000  206.000000       96.000000   \n",
       "\n",
       "        valence_%    energy_%  acousticness_%  instrumentalness_%  liveness_%  \\\n",
       "count  779.000000  779.000000      779.000000          779.000000  779.000000   \n",
       "mean    50.825417   64.216945       26.758665            0.522465   17.077022   \n",
       "std     23.441286   16.135127       25.873000            2.652146   11.011059   \n",
       "min      4.000000   16.000000        0.000000            0.000000    3.000000   \n",
       "25%     32.000000   53.500000        5.000000            0.000000   10.000000   \n",
       "50%     50.000000   66.000000       18.000000            0.000000   12.000000   \n",
       "75%     69.000000   77.000000       42.000000            0.000000   22.000000   \n",
       "max     97.000000   97.000000       97.000000           24.000000   58.000000   \n",
       "\n",
       "       speechiness_%  \n",
       "count     779.000000  \n",
       "mean        9.946085  \n",
       "std         9.033338  \n",
       "min         2.000000  \n",
       "25%         4.000000  \n",
       "50%         6.000000  \n",
       "75%        12.000000  \n",
       "max        39.000000  "
      ]
     },
     "execution_count": 5,
     "metadata": {},
     "output_type": "execute_result"
    }
   ],
   "source": [
    "df_novo.describe()"
   ]
  },
  {
   "cell_type": "markdown",
   "metadata": {},
   "source": [
    "# Possiveis perguntas de mercado + análises e resultados"
   ]
  },
  {
   "cell_type": "markdown",
   "metadata": {},
   "source": [
    "# Quais são os artistas com mais músicas em playlists? "
   ]
  },
  {
   "cell_type": "code",
   "execution_count": 6,
   "metadata": {},
   "outputs": [
    {
     "data": {
      "image/png": "[encoded data removed]",
      "text/plain": [
       "<Figure size 640x480 with 1 Axes>"
      ]
     },
     "metadata": {},
     "output_type": "display_data"
    }
   ],
   "source": [
    "# Agruparemos os dados por artistas e contaremos a quantidade de músicas de cada artista em playlists ou charts.\n",
    "\n",
    "pop_artistas = df_novo.groupby('artist(s)_name')['in_spotify_playlists'].sum().sort_values(ascending=False)\n",
    "\n",
    "ax = pop_artistas.head(10).plot(kind='bar', title='Top 10 Artistas com mais músicas em playlists')\n",
    "\n",
    "# Removendo o rótulo do eixo x\n",
    "ax.set_xlabel('')\n",
    "\n",
    "plt.show()\n"
   ]
  },
  {
   "cell_type": "markdown",
   "metadata": {},
   "source": [
    "# Como podemos agrupar músicas com características semelhantes para criar playlists personalizadas, recomendar conteúdos ou segmentar o público de forma mais eficiente?"
   ]
  },
  {
   "cell_type": "code",
   "execution_count": 7,
   "metadata": {},
   "outputs": [
    {
     "name": "stderr",
     "output_type": "stream",
     "text": [
      "c:\\Users\\victo\\anaconda3\\Lib\\site-packages\\sklearn\\cluster\\_kmeans.py:1446: UserWarning: KMeans is known to have a memory leak on Windows with MKL, when there are less chunks than available threads. You can avoid it by setting the environment variable OMP_NUM_THREADS=4.\n",
      "  warnings.warn(\n",
      "C:\\Users\\victo\\AppData\\Local\\Temp\\ipykernel_24328\\2599563501.py:12: SettingWithCopyWarning: \n",
      "A value is trying to be set on a copy of a slice from a DataFrame.\n",
      "Try using .loc[row_indexer,col_indexer] = value instead\n",
      "\n",
      "See the caveats in the documentation: https://pandas.pydata.org/pandas-docs/stable/user_guide/indexing.html#returning-a-view-versus-a-copy\n",
      "  df_novo['cluster'] = kmeans.fit_predict(X)\n"
     ]
    },
    {
     "data": {
      "image/png": "[encoded data removed]",
      "text/plain": [
       "<Figure size 640x480 with 1 Axes>"
      ]
     },
     "metadata": {},
     "output_type": "display_data"
    }
   ],
   "source": [
    "# Agruparemos as músicas em clusters com base em suas características (BPM, energia, dançabilidade, etc.).\n",
    "# Para isso iremos usar algoritmos de clustering como K-Means para segmentar as músicas em diferentes grupos baseados em atributos musicais.\n",
    "\n",
    "from sklearn.cluster import KMeans\n",
    "\n",
    "# Definindo características\n",
    "\n",
    "X = df_novo[['bpm', 'energy_%', 'danceability_%']]\n",
    "\n",
    "# K-means\n",
    "kmeans = KMeans(n_clusters=3, random_state=12) # Definindo random_state a uma constante teremos que o comportamento aleatório será determinístico.\n",
    "df_novo['cluster'] = kmeans.fit_predict(X)\n",
    "\n",
    "sns.scatterplot(x='bpm', y='energy_%', hue='cluster', data=df_novo, palette='Set2')\n",
    "plt.show()\n",
    "\n"
   ]
  },
  {
   "cell_type": "code",
   "execution_count": 8,
   "metadata": {},
   "outputs": [],
   "source": [
    "#Cluster 0 (Verde)\n",
    "\n",
    "#Este grupo contém músicas que, em sua maioria, têm BPM entre aproximadamente 60 e 120 e uma Energy entre 20% e 95%.\n",
    "#Podemos inferir que essas músicas têm uma energia moderada e tendem a ser mais lentas em termos de BPM.\n",
    "\n",
    "#Cluster 1 (Azul)\n",
    "\n",
    "#Este grupo tem músicas com BPM entre 110 e 150 e Energy variando entre 30% e 95%.\n",
    "#Essas músicas têm BPM intermediário, e a energia varia muito dentro deste grupo, indicando uma diversidade de gêneros ou estilos musicais.\n",
    "\n",
    "#Cluster 2 (Laranja)\n",
    "#Contém músicas com BPM mais altos, entre 140 e 200, e Energy maior, entre 10% e 90%.\n",
    "#Este grupo representa músicas mais rápidas e com alta energia, o que sugere que podem pertencer a gêneros como música eletrônica, dance, ou rock mais agitado.\n",
    "\n",
    "#O K-Means valeu a pena até certo ponto, pois permitiu identificar 3 grupos distintos de músicas com base nas suas características musicais\n",
    "\n"
   ]
  },
  {
   "cell_type": "code",
   "execution_count": 9,
   "metadata": {},
   "outputs": [
    {
     "name": "stderr",
     "output_type": "stream",
     "text": [
      "c:\\Users\\victo\\anaconda3\\Lib\\site-packages\\sklearn\\cluster\\_kmeans.py:1446: UserWarning: KMeans is known to have a memory leak on Windows with MKL, when there are less chunks than available threads. You can avoid it by setting the environment variable OMP_NUM_THREADS=4.\n",
      "  warnings.warn(\n",
      "c:\\Users\\victo\\anaconda3\\Lib\\site-packages\\sklearn\\cluster\\_kmeans.py:1446: UserWarning: KMeans is known to have a memory leak on Windows with MKL, when there are less chunks than available threads. You can avoid it by setting the environment variable OMP_NUM_THREADS=4.\n",
      "  warnings.warn(\n",
      "c:\\Users\\victo\\anaconda3\\Lib\\site-packages\\sklearn\\cluster\\_kmeans.py:1446: UserWarning: KMeans is known to have a memory leak on Windows with MKL, when there are less chunks than available threads. You can avoid it by setting the environment variable OMP_NUM_THREADS=4.\n",
      "  warnings.warn(\n",
      "c:\\Users\\victo\\anaconda3\\Lib\\site-packages\\sklearn\\cluster\\_kmeans.py:1446: UserWarning: KMeans is known to have a memory leak on Windows with MKL, when there are less chunks than available threads. You can avoid it by setting the environment variable OMP_NUM_THREADS=4.\n",
      "  warnings.warn(\n",
      "c:\\Users\\victo\\anaconda3\\Lib\\site-packages\\sklearn\\cluster\\_kmeans.py:1446: UserWarning: KMeans is known to have a memory leak on Windows with MKL, when there are less chunks than available threads. You can avoid it by setting the environment variable OMP_NUM_THREADS=4.\n",
      "  warnings.warn(\n",
      "c:\\Users\\victo\\anaconda3\\Lib\\site-packages\\sklearn\\cluster\\_kmeans.py:1446: UserWarning: KMeans is known to have a memory leak on Windows with MKL, when there are less chunks than available threads. You can avoid it by setting the environment variable OMP_NUM_THREADS=4.\n",
      "  warnings.warn(\n",
      "c:\\Users\\victo\\anaconda3\\Lib\\site-packages\\sklearn\\cluster\\_kmeans.py:1446: UserWarning: KMeans is known to have a memory leak on Windows with MKL, when there are less chunks than available threads. You can avoid it by setting the environment variable OMP_NUM_THREADS=4.\n",
      "  warnings.warn(\n",
      "c:\\Users\\victo\\anaconda3\\Lib\\site-packages\\sklearn\\cluster\\_kmeans.py:1446: UserWarning: KMeans is known to have a memory leak on Windows with MKL, when there are less chunks than available threads. You can avoid it by setting the environment variable OMP_NUM_THREADS=4.\n",
      "  warnings.warn(\n",
      "c:\\Users\\victo\\anaconda3\\Lib\\site-packages\\sklearn\\cluster\\_kmeans.py:1446: UserWarning: KMeans is known to have a memory leak on Windows with MKL, when there are less chunks than available threads. You can avoid it by setting the environment variable OMP_NUM_THREADS=4.\n",
      "  warnings.warn(\n"
     ]
    },
    {
     "data": {
      "image/png": "[encoded data removed]",
      "text/plain": [
       "<Figure size 640x480 with 1 Axes>"
      ]
     },
     "metadata": {},
     "output_type": "display_data"
    }
   ],
   "source": [
    "# Verificando se 3 clusters é a quantidade ideal.\n",
    "# Método do Cotovelo\n",
    "# O objetivo do método do cotovelo é encontrar o ponto onde a distorção diminui drasticamente e depois começa a se estabilizar. \n",
    "# Esse seria o ponto que indica o número ideal de clusters.\n",
    "\n",
    "distortions = []\n",
    "for i in range(1, 10):\n",
    "    kmeans = KMeans(n_clusters=i, random_state=42)\n",
    "    kmeans.fit(X)\n",
    "    distortions.append(kmeans.inertia_)\n",
    "\n",
    "plt.plot(range(1, 10), distortions, marker='o')\n",
    "plt.title('Método do Cotovelo')\n",
    "plt.xlabel('Número de Clusters')\n",
    "plt.ylabel('Distortion')\n",
    "plt.show()"
   ]
  },
  {
   "cell_type": "code",
   "execution_count": 10,
   "metadata": {},
   "outputs": [],
   "source": [
    "# o gráfico sugere que 3 clusters equilibram bem a simplicidade e a qualidade do agrupamento."
   ]
  },
  {
   "cell_type": "markdown",
   "metadata": {},
   "source": [
    "# Quais atributos musicais (ex: BPM, energia, dançabilidade) estão mais correlacionados com o sucesso (número de streams)?"
   ]
  },
  {
   "cell_type": "code",
   "execution_count": 11,
   "metadata": {},
   "outputs": [
    {
     "data": {
      "image/png": "[encoded data removed]",
      "text/plain": [
       "<Figure size 640x480 with 2 Axes>"
      ]
     },
     "metadata": {},
     "output_type": "display_data"
    }
   ],
   "source": [
    "# Calculando a correlação entre atributos musicais e streams\n",
    "Matriz_corr = df_novo[['bpm', 'danceability_%', 'valence_%', 'energy_%', 'acousticness_%', 'streams']].corr()\n",
    "\n",
    "# Criando o mapa de calor\n",
    "sns.heatmap(Matriz_corr, annot=True, cmap='coolwarm', fmt='.2f')\n",
    "plt.title('Correlação entre Atributos Musicais e Streams')\n",
    "plt.show()\n",
    "\n"
   ]
  },
  {
   "cell_type": "code",
   "execution_count": 12,
   "metadata": {},
   "outputs": [],
   "source": [
    "# Interpretação \n",
    "\n",
    "#A correlação entre atributos musicais e o número de streams é, em sua maioria, muito baixa, \n",
    "#indicando que não há um único fator musical fortemente determinante do sucesso de uma música (pelo menos com base nesses atributos).\n",
    "#Isso significa que o sucesso de uma música pode depender de uma combinação de outros fatores, como marketing, exposição em playlists ou a própria base de fãs do artista, além das características puramente musicais.\n"
   ]
  },
  {
   "cell_type": "markdown",
   "metadata": {},
   "source": [
    "# Quais tendências podem ser observadas em relação aos meses de lançamento das músicas mais transmitidas?"
   ]
  },
  {
   "cell_type": "code",
   "execution_count": 13,
   "metadata": {},
   "outputs": [
    {
     "data": {
      "application/vnd.plotly.v1+json": {
       "config": {
        "plotlyServerURL": "https://plot.ly"
       },
       "data": [
        {
         "alignmentgroup": "True",
         "hovertemplate": "Mês de Lançamento=%{x}<br>Número de Sons=%{y}<br>color=%{marker.color}<extra></extra>",
         "legendgroup": "",
         "marker": {
          "color": [
           91,
           52,
           72,
           60,
           110,
           70,
           52,
           39,
           44,
           60,
           62,
           67
          ],
          "coloraxis": "coloraxis",
          "pattern": {
           "shape": ""
          }
         },
         "name": "",
         "offsetgroup": "",
         "orientation": "v",
         "showlegend": false,
         "textposition": "auto",
         "type": "bar",
         "x": [
          1,
          2,
          3,
          4,
          5,
          6,
          7,
          8,
          9,
          10,
          11,
          12
         ],
         "xaxis": "x",
         "y": [
          91,
          52,
          72,
          60,
          110,
          70,
          52,
          39,
          44,
          60,
          62,
          67
         ],
         "yaxis": "y"
        }
       ],
       "layout": {
        "barmode": "relative",
        "coloraxis": {
         "colorbar": {
          "title": {
           "text": "color"
          }
         },
         "colorscale": [
          [
           0,
           "#30123b"
          ],
          [
           0.07142857142857142,
           "#4145ab"
          ],
          [
           0.14285714285714285,
           "#4675ed"
          ],
          [
           0.21428571428571427,
           "#39a2fc"
          ],
          [
           0.2857142857142857,
           "#1bcfd4"
          ],
          [
           0.35714285714285715,
           "#24eca6"
          ],
          [
           0.42857142857142855,
           "#61fc6c"
          ],
          [
           0.5,
           "#a4fc3b"
          ],
          [
           0.5714285714285714,
           "#d1e834"
          ],
          [
           0.6428571428571429,
           "#f3c63a"
          ],
          [
           0.7142857142857143,
           "#fe9b2d"
          ],
          [
           0.7857142857142857,
           "#f36315"
          ],
          [
           0.8571428571428571,
           "#d93806"
          ],
          [
           0.9285714285714286,
           "#b11901"
          ],
          [
           1,
           "#7a0402"
          ]
         ]
        },
        "legend": {
         "tracegroupgap": 0
        },
        "template": {
         "data": {
          "bar": [
           {
            "error_x": {
             "color": "#2a3f5f"
            },
            "error_y": {
             "color": "#2a3f5f"
            },
            "marker": {
             "line": {
              "color": "#E5ECF6",
              "width": 0.5
             },
             "pattern": {
              "fillmode": "overlay",
              "size": 10,
              "solidity": 0.2
             }
            },
            "type": "bar"
           }
          ],
          "barpolar": [
           {
            "marker": {
             "line": {
              "color": "#E5ECF6",
              "width": 0.5
             },
             "pattern": {
              "fillmode": "overlay",
              "size": 10,
              "solidity": 0.2
             }
            },
            "type": "barpolar"
           }
          ],
          "carpet": [
           {
            "aaxis": {
             "endlinecolor": "#2a3f5f",
             "gridcolor": "white",
             "linecolor": "white",
             "minorgridcolor": "white",
             "startlinecolor": "#2a3f5f"
            },
            "baxis": {
             "endlinecolor": "#2a3f5f",
             "gridcolor": "white",
             "linecolor": "white",
             "minorgridcolor": "white",
             "startlinecolor": "#2a3f5f"
            },
            "type": "carpet"
           }
          ],
          "choropleth": [
           {
            "colorbar": {
             "outlinewidth": 0,
             "ticks": ""
            },
            "type": "choropleth"
           }
          ],
          "contour": [
           {
            "colorbar": {
             "outlinewidth": 0,
             "ticks": ""
            },
            "colorscale": [
             [
              0,
              "#0d0887"
             ],
             [
              0.1111111111111111,
              "#46039f"
             ],
             [
              0.2222222222222222,
              "#7201a8"
             ],
             [
              0.3333333333333333,
              "#9c179e"
             ],
             [
              0.4444444444444444,
              "#bd3786"
             ],
             [
              0.5555555555555556,
              "#d8576b"
             ],
             [
              0.6666666666666666,
              "#ed7953"
             ],
             [
              0.7777777777777778,
              "#fb9f3a"
             ],
             [
              0.8888888888888888,
              "#fdca26"
             ],
             [
              1,
              "#f0f921"
             ]
            ],
            "type": "contour"
           }
          ],
          "contourcarpet": [
           {
            "colorbar": {
             "outlinewidth": 0,
             "ticks": ""
            },
            "type": "contourcarpet"
           }
          ],
          "heatmap": [
           {
            "colorbar": {
             "outlinewidth": 0,
             "ticks": ""
            },
            "colorscale": [
             [
              0,
              "#0d0887"
             ],
             [
              0.1111111111111111,
              "#46039f"
             ],
             [
              0.2222222222222222,
              "#7201a8"
             ],
             [
              0.3333333333333333,
              "#9c179e"
             ],
             [
              0.4444444444444444,
              "#bd3786"
             ],
             [
              0.5555555555555556,
              "#d8576b"
             ],
             [
              0.6666666666666666,
              "#ed7953"
             ],
             [
              0.7777777777777778,
              "#fb9f3a"
             ],
             [
              0.8888888888888888,
              "#fdca26"
             ],
             [
              1,
              "#f0f921"
             ]
            ],
            "type": "heatmap"
           }
          ],
          "heatmapgl": [
           {
            "colorbar": {
             "outlinewidth": 0,
             "ticks": ""
            },
            "colorscale": [
             [
              0,
              "#0d0887"
             ],
             [
              0.1111111111111111,
              "#46039f"
             ],
             [
              0.2222222222222222,
              "#7201a8"
             ],
             [
              0.3333333333333333,
              "#9c179e"
             ],
             [
              0.4444444444444444,
              "#bd3786"
             ],
             [
              0.5555555555555556,
              "#d8576b"
             ],
             [
              0.6666666666666666,
              "#ed7953"
             ],
             [
              0.7777777777777778,
              "#fb9f3a"
             ],
             [
              0.8888888888888888,
              "#fdca26"
             ],
             [
              1,
              "#f0f921"
             ]
            ],
            "type": "heatmapgl"
           }
          ],
          "histogram": [
           {
            "marker": {
             "pattern": {
              "fillmode": "overlay",
              "size": 10,
              "solidity": 0.2
             }
            },
            "type": "histogram"
           }
          ],
          "histogram2d": [
           {
            "colorbar": {
             "outlinewidth": 0,
             "ticks": ""
            },
            "colorscale": [
             [
              0,
              "#0d0887"
             ],
             [
              0.1111111111111111,
              "#46039f"
             ],
             [
              0.2222222222222222,
              "#7201a8"
             ],
             [
              0.3333333333333333,
              "#9c179e"
             ],
             [
              0.4444444444444444,
              "#bd3786"
             ],
             [
              0.5555555555555556,
              "#d8576b"
             ],
             [
              0.6666666666666666,
              "#ed7953"
             ],
             [
              0.7777777777777778,
              "#fb9f3a"
             ],
             [
              0.8888888888888888,
              "#fdca26"
             ],
             [
              1,
              "#f0f921"
             ]
            ],
            "type": "histogram2d"
           }
          ],
          "histogram2dcontour": [
           {
            "colorbar": {
             "outlinewidth": 0,
             "ticks": ""
            },
            "colorscale": [
             [
              0,
              "#0d0887"
             ],
             [
              0.1111111111111111,
              "#46039f"
             ],
             [
              0.2222222222222222,
              "#7201a8"
             ],
             [
              0.3333333333333333,
              "#9c179e"
             ],
             [
              0.4444444444444444,
              "#bd3786"
             ],
             [
              0.5555555555555556,
              "#d8576b"
             ],
             [
              0.6666666666666666,
              "#ed7953"
             ],
             [
              0.7777777777777778,
              "#fb9f3a"
             ],
             [
              0.8888888888888888,
              "#fdca26"
             ],
             [
              1,
              "#f0f921"
             ]
            ],
            "type": "histogram2dcontour"
           }
          ],
          "mesh3d": [
           {
            "colorbar": {
             "outlinewidth": 0,
             "ticks": ""
            },
            "type": "mesh3d"
           }
          ],
          "parcoords": [
           {
            "line": {
             "colorbar": {
              "outlinewidth": 0,
              "ticks": ""
             }
            },
            "type": "parcoords"
           }
          ],
          "pie": [
           {
            "automargin": true,
            "type": "pie"
           }
          ],
          "scatter": [
           {
            "fillpattern": {
             "fillmode": "overlay",
             "size": 10,
             "solidity": 0.2
            },
            "type": "scatter"
           }
          ],
          "scatter3d": [
           {
            "line": {
             "colorbar": {
              "outlinewidth": 0,
              "ticks": ""
             }
            },
            "marker": {
             "colorbar": {
              "outlinewidth": 0,
              "ticks": ""
             }
            },
            "type": "scatter3d"
           }
          ],
          "scattercarpet": [
           {
            "marker": {
             "colorbar": {
              "outlinewidth": 0,
              "ticks": ""
             }
            },
            "type": "scattercarpet"
           }
          ],
          "scattergeo": [
           {
            "marker": {
             "colorbar": {
              "outlinewidth": 0,
              "ticks": ""
             }
            },
            "type": "scattergeo"
           }
          ],
          "scattergl": [
           {
            "marker": {
             "colorbar": {
              "outlinewidth": 0,
              "ticks": ""
             }
            },
            "type": "scattergl"
           }
          ],
          "scattermapbox": [
           {
            "marker": {
             "colorbar": {
              "outlinewidth": 0,
              "ticks": ""
             }
            },
            "type": "scattermapbox"
           }
          ],
          "scatterpolar": [
           {
            "marker": {
             "colorbar": {
              "outlinewidth": 0,
              "ticks": ""
             }
            },
            "type": "scatterpolar"
           }
          ],
          "scatterpolargl": [
           {
            "marker": {
             "colorbar": {
              "outlinewidth": 0,
              "ticks": ""
             }
            },
            "type": "scatterpolargl"
           }
          ],
          "scatterternary": [
           {
            "marker": {
             "colorbar": {
              "outlinewidth": 0,
              "ticks": ""
             }
            },
            "type": "scatterternary"
           }
          ],
          "surface": [
           {
            "colorbar": {
             "outlinewidth": 0,
             "ticks": ""
            },
            "colorscale": [
             [
              0,
              "#0d0887"
             ],
             [
              0.1111111111111111,
              "#46039f"
             ],
             [
              0.2222222222222222,
              "#7201a8"
             ],
             [
              0.3333333333333333,
              "#9c179e"
             ],
             [
              0.4444444444444444,
              "#bd3786"
             ],
             [
              0.5555555555555556,
              "#d8576b"
             ],
             [
              0.6666666666666666,
              "#ed7953"
             ],
             [
              0.7777777777777778,
              "#fb9f3a"
             ],
             [
              0.8888888888888888,
              "#fdca26"
             ],
             [
              1,
              "#f0f921"
             ]
            ],
            "type": "surface"
           }
          ],
          "table": [
           {
            "cells": {
             "fill": {
              "color": "#EBF0F8"
             },
             "line": {
              "color": "white"
             }
            },
            "header": {
             "fill": {
              "color": "#C8D4E3"
             },
             "line": {
              "color": "white"
             }
            },
            "type": "table"
           }
          ]
         },
         "layout": {
          "annotationdefaults": {
           "arrowcolor": "#2a3f5f",
           "arrowhead": 0,
           "arrowwidth": 1
          },
          "autotypenumbers": "strict",
          "coloraxis": {
           "colorbar": {
            "outlinewidth": 0,
            "ticks": ""
           }
          },
          "colorscale": {
           "diverging": [
            [
             0,
             "#8e0152"
            ],
            [
             0.1,
             "#c51b7d"
            ],
            [
             0.2,
             "#de77ae"
            ],
            [
             0.3,
             "#f1b6da"
            ],
            [
             0.4,
             "#fde0ef"
            ],
            [
             0.5,
             "#f7f7f7"
            ],
            [
             0.6,
             "#e6f5d0"
            ],
            [
             0.7,
             "#b8e186"
            ],
            [
             0.8,
             "#7fbc41"
            ],
            [
             0.9,
             "#4d9221"
            ],
            [
             1,
             "#276419"
            ]
           ],
           "sequential": [
            [
             0,
             "#0d0887"
            ],
            [
             0.1111111111111111,
             "#46039f"
            ],
            [
             0.2222222222222222,
             "#7201a8"
            ],
            [
             0.3333333333333333,
             "#9c179e"
            ],
            [
             0.4444444444444444,
             "#bd3786"
            ],
            [
             0.5555555555555556,
             "#d8576b"
            ],
            [
             0.6666666666666666,
             "#ed7953"
            ],
            [
             0.7777777777777778,
             "#fb9f3a"
            ],
            [
             0.8888888888888888,
             "#fdca26"
            ],
            [
             1,
             "#f0f921"
            ]
           ],
           "sequentialminus": [
            [
             0,
             "#0d0887"
            ],
            [
             0.1111111111111111,
             "#46039f"
            ],
            [
             0.2222222222222222,
             "#7201a8"
            ],
            [
             0.3333333333333333,
             "#9c179e"
            ],
            [
             0.4444444444444444,
             "#bd3786"
            ],
            [
             0.5555555555555556,
             "#d8576b"
            ],
            [
             0.6666666666666666,
             "#ed7953"
            ],
            [
             0.7777777777777778,
             "#fb9f3a"
            ],
            [
             0.8888888888888888,
             "#fdca26"
            ],
            [
             1,
             "#f0f921"
            ]
           ]
          },
          "colorway": [
           "#636efa",
           "#EF553B",
           "#00cc96",
           "#ab63fa",
           "#FFA15A",
           "#19d3f3",
           "#FF6692",
           "#B6E880",
           "#FF97FF",
           "#FECB52"
          ],
          "font": {
           "color": "#2a3f5f"
          },
          "geo": {
           "bgcolor": "white",
           "lakecolor": "white",
           "landcolor": "#E5ECF6",
           "showlakes": true,
           "showland": true,
           "subunitcolor": "white"
          },
          "hoverlabel": {
           "align": "left"
          },
          "hovermode": "closest",
          "mapbox": {
           "style": "light"
          },
          "paper_bgcolor": "white",
          "plot_bgcolor": "#E5ECF6",
          "polar": {
           "angularaxis": {
            "gridcolor": "white",
            "linecolor": "white",
            "ticks": ""
           },
           "bgcolor": "#E5ECF6",
           "radialaxis": {
            "gridcolor": "white",
            "linecolor": "white",
            "ticks": ""
           }
          },
          "scene": {
           "xaxis": {
            "backgroundcolor": "#E5ECF6",
            "gridcolor": "white",
            "gridwidth": 2,
            "linecolor": "white",
            "showbackground": true,
            "ticks": "",
            "zerolinecolor": "white"
           },
           "yaxis": {
            "backgroundcolor": "#E5ECF6",
            "gridcolor": "white",
            "gridwidth": 2,
            "linecolor": "white",
            "showbackground": true,
            "ticks": "",
            "zerolinecolor": "white"
           },
           "zaxis": {
            "backgroundcolor": "#E5ECF6",
            "gridcolor": "white",
            "gridwidth": 2,
            "linecolor": "white",
            "showbackground": true,
            "ticks": "",
            "zerolinecolor": "white"
           }
          },
          "shapedefaults": {
           "line": {
            "color": "#2a3f5f"
           }
          },
          "ternary": {
           "aaxis": {
            "gridcolor": "white",
            "linecolor": "white",
            "ticks": ""
           },
           "baxis": {
            "gridcolor": "white",
            "linecolor": "white",
            "ticks": ""
           },
           "bgcolor": "#E5ECF6",
           "caxis": {
            "gridcolor": "white",
            "linecolor": "white",
            "ticks": ""
           }
          },
          "title": {
           "x": 0.05
          },
          "xaxis": {
           "automargin": true,
           "gridcolor": "white",
           "linecolor": "white",
           "ticks": "",
           "title": {
            "standoff": 15
           },
           "zerolinecolor": "white",
           "zerolinewidth": 2
          },
          "yaxis": {
           "automargin": true,
           "gridcolor": "white",
           "linecolor": "white",
           "ticks": "",
           "title": {
            "standoff": 15
           },
           "zerolinecolor": "white",
           "zerolinewidth": 2
          }
         }
        },
        "title": {
         "text": "Número de músicas mais transmitidas por mês de lançamento"
        },
        "xaxis": {
         "anchor": "y",
         "domain": [
          0,
          1
         ],
         "title": {
          "text": "Mês de Lançamento"
         }
        },
        "yaxis": {
         "anchor": "x",
         "domain": [
          0,
          1
         ],
         "title": {
          "text": "Número de Sons"
         }
        }
       }
      }
     },
     "metadata": {},
     "output_type": "display_data"
    }
   ],
   "source": [
    "import plotly.express as px\n",
    "contagem_mensal= df_novo['released_month'].value_counts().sort_index()\n",
    "fig = px.bar(x=contagem_mensal.index, \n",
    "              y=contagem_mensal.values, \n",
    "              title='Número de músicas mais transmitidas por mês de lançamento',\n",
    "              labels={'x': 'Mês de Lançamento', 'y': 'Número de Sons'},\n",
    "              color=contagem_mensal.values,\n",
    "              color_continuous_scale='Turbo')\n",
    "fig.show()"
   ]
  },
  {
   "cell_type": "code",
   "execution_count": 14,
   "metadata": {},
   "outputs": [],
   "source": [
    "# Observa-se que o mês de maio tende a lançar as músicas mais transmitidas com uma frequência consideravelmente maior que os outros meses"
   ]
  },
  {
   "cell_type": "markdown",
   "metadata": {},
   "source": [
    "# Qual a distribuição de BPM nas músicas de sucesso, e qual faixa de BPM está mais associada ao sucesso?"
   ]
  },
  {
   "cell_type": "code",
   "execution_count": 15,
   "metadata": {},
   "outputs": [
    {
     "data": {
      "application/vnd.plotly.v1+json": {
       "config": {
        "plotlyServerURL": "https://plot.ly"
       },
       "data": [
        {
         "alignmentgroup": "True",
         "bingroup": "x",
         "hovertemplate": "Ano de Lançamento=2023<br>bpm=%{x}<br>count=%{y}<extra></extra>",
         "legendgroup": "2023",
         "marker": {
          "color": "#636EFA",
          "pattern": {
           "shape": ""
          }
         },
         "name": "2023",
         "offsetgroup": "2023",
         "orientation": "v",
         "showlegend": true,
         "type": "histogram",
         "x": [
          92,
          100,
          170,
          150,
          100,
          120,
          140,
          123,
          133,
          130,
          122,
          204,
          168,
          180,
          150,
          125,
          144,
          67,
          106,
          128,
          107,
          130,
          137,
          128,
          130,
          133,
          95,
          140,
          82,
          130,
          98,
          130,
          142,
          124,
          98,
          172,
          150,
          143,
          100,
          93,
          170,
          134,
          116,
          121,
          150,
          120,
          127,
          128,
          143,
          128,
          130,
          127,
          140,
          124,
          133,
          97,
          140,
          128,
          122,
          160,
          192,
          138,
          90,
          166,
          98,
          90,
          146,
          170,
          146,
          144,
          100,
          105,
          106,
          132,
          120,
          129,
          98,
          124,
          135,
          107,
          90,
          133,
          110,
          105,
          134,
          81,
          84,
          93,
          91,
          142,
          126,
          120,
          143,
          178,
          176,
          104,
          85,
          117,
          80,
          98,
          178,
          120,
          122,
          96,
          137,
          119,
          148,
          182,
          110,
          130,
          120,
          132,
          145,
          120,
          123,
          94,
          89,
          87,
          124,
          78,
          96,
          106,
          100,
          142,
          116,
          92,
          95,
          94,
          121,
          140,
          137,
          104,
          92,
          120,
          144,
          148,
          98,
          140,
          142,
          176,
          107,
          148,
          125,
          170,
          115,
          122,
          100,
          90,
          125
         ],
         "xaxis": "x",
         "yaxis": "y"
        },
        {
         "alignmentgroup": "True",
         "bingroup": "x",
         "hovertemplate": "Ano de Lançamento=2022<br>bpm=%{x}<br>count=%{y}<extra></extra>",
         "legendgroup": "2022",
         "marker": {
          "color": "#EF553B",
          "pattern": {
           "shape": ""
          }
         },
         "name": "2022",
         "offsetgroup": "2022",
         "orientation": "v",
         "showlegend": true,
         "type": "histogram",
         "x": [
          97,
          125,
          101,
          98,
          90,
          198,
          94,
          128,
          132,
          168,
          101,
          143,
          88,
          158,
          130,
          139,
          162,
          95,
          119,
          132,
          80,
          163,
          157,
          107,
          134,
          136,
          135,
          96,
          123,
          117,
          96,
          149,
          105,
          170,
          169,
          97,
          98,
          150,
          153,
          93,
          170,
          148,
          111,
          145,
          134,
          130,
          145,
          173,
          92,
          139,
          110,
          94,
          120,
          115,
          130,
          110,
          140,
          92,
          110,
          120,
          115,
          102,
          145,
          142,
          145,
          146,
          94,
          94,
          113,
          140,
          100,
          100,
          132,
          140,
          135,
          128,
          101,
          122,
          105,
          83,
          98,
          109,
          94,
          96,
          100,
          105,
          133,
          120,
          177,
          142,
          108,
          115,
          174,
          141,
          90,
          83,
          107,
          87,
          82,
          114,
          148,
          140,
          101,
          140,
          88,
          133,
          140,
          102,
          82,
          85,
          125,
          120,
          94,
          152,
          65,
          150,
          125,
          76,
          119,
          78,
          150,
          90,
          160,
          100,
          155,
          112,
          166,
          81,
          150,
          110,
          108,
          130,
          164,
          128,
          97,
          116,
          80,
          93,
          122,
          135,
          109,
          93,
          121,
          123,
          143,
          87,
          110,
          78,
          86,
          122,
          170,
          94,
          118,
          88,
          78,
          148,
          110,
          145,
          138,
          115,
          94,
          130,
          180,
          134,
          184,
          147,
          123,
          160,
          85,
          154,
          140,
          135,
          117,
          124,
          95,
          96,
          124,
          72,
          71,
          135,
          150,
          189,
          85,
          140,
          104,
          200,
          107,
          174,
          92,
          90,
          147,
          143,
          118,
          98,
          138,
          180,
          115,
          82,
          166,
          108,
          84,
          95,
          135,
          119,
          98,
          118,
          140,
          101,
          78,
          93,
          153,
          142,
          96,
          125,
          85,
          140,
          196,
          134,
          103,
          130,
          108,
          152,
          108,
          72,
          121,
          138,
          188,
          110,
          105,
          118,
          158,
          115,
          174,
          130,
          78,
          104,
          121,
          105,
          81,
          170,
          78,
          125,
          92,
          140,
          96,
          118,
          92,
          140,
          174,
          127,
          96,
          150,
          100,
          104,
          154,
          80,
          150,
          98,
          144,
          172,
          77,
          107,
          114,
          117,
          146,
          160,
          120,
          100,
          158,
          142,
          170,
          84,
          139,
          118,
          183,
          83,
          122,
          165,
          106,
          77,
          148,
          114,
          120,
          92,
          123,
          110,
          118,
          130,
          154,
          115,
          125,
          102,
          120,
          97,
          140,
          97,
          170,
          137,
          157,
          130,
          90,
          183,
          128,
          126,
          120,
          130,
          172,
          122,
          105,
          120,
          145,
          99,
          126,
          136,
          113,
          132,
          135,
          102,
          125,
          120,
          100,
          164,
          93,
          180,
          140,
          92,
          118,
          93,
          130,
          83,
          102,
          136,
          156,
          123,
          138,
          131,
          122,
          80,
          109,
          126,
          104,
          110,
          130,
          177,
          158,
          144,
          125,
          142,
          120,
          96,
          144,
          166,
          92,
          97,
          90
         ],
         "xaxis": "x",
         "yaxis": "y"
        },
        {
         "alignmentgroup": "True",
         "bingroup": "x",
         "hovertemplate": "Ano de Lançamento=2014<br>bpm=%{x}<br>count=%{y}<extra></extra>",
         "legendgroup": "2014",
         "marker": {
          "color": "#00CC96",
          "pattern": {
           "shape": ""
          }
         },
         "name": "2014",
         "offsetgroup": "2014",
         "orientation": "v",
         "showlegend": true,
         "type": "histogram",
         "x": [
          96,
          95,
          100,
          120,
          105,
          76,
          82,
          126,
          108,
          91
         ],
         "xaxis": "x",
         "yaxis": "y"
        },
        {
         "alignmentgroup": "True",
         "bingroup": "x",
         "hovertemplate": "Ano de Lançamento=2017<br>bpm=%{x}<br>count=%{y}<extra></extra>",
         "legendgroup": "2017",
         "marker": {
          "color": "#AB63FA",
          "pattern": {
           "shape": ""
          }
         },
         "name": "2017",
         "offsetgroup": "2017",
         "orientation": "v",
         "showlegend": true,
         "type": "histogram",
         "x": [
          79,
          136,
          117,
          115,
          95,
          125,
          172,
          140,
          105,
          114,
          122,
          134,
          120,
          84,
          120,
          150,
          126
         ],
         "xaxis": "x",
         "yaxis": "y"
        },
        {
         "alignmentgroup": "True",
         "bingroup": "x",
         "hovertemplate": "Ano de Lançamento=2020<br>bpm=%{x}<br>count=%{y}<extra></extra>",
         "legendgroup": "2020",
         "marker": {
          "color": "#FFA15A",
          "pattern": {
           "shape": ""
          }
         },
         "name": "2020",
         "offsetgroup": "2020",
         "orientation": "v",
         "showlegend": true,
         "type": "histogram",
         "x": [
          122,
          130,
          90,
          118,
          139,
          118,
          109,
          158,
          92,
          186,
          103,
          179,
          116,
          128,
          95,
          110,
          80,
          114,
          91,
          140,
          120,
          144,
          129,
          124,
          95,
          166,
          92,
          93,
          94,
          103,
          126,
          125
         ],
         "xaxis": "x",
         "yaxis": "y"
        },
        {
         "alignmentgroup": "True",
         "bingroup": "x",
         "hovertemplate": "Ano de Lançamento=2016<br>bpm=%{x}<br>count=%{y}<extra></extra>",
         "legendgroup": "2016",
         "marker": {
          "color": "#19D3F3",
          "pattern": {
           "shape": ""
          }
         },
         "name": "2016",
         "offsetgroup": "2016",
         "orientation": "v",
         "showlegend": true,
         "type": "histogram",
         "x": [
          134,
          90,
          160,
          160,
          174,
          99,
          144,
          135,
          102,
          90,
          160,
          95,
          122,
          110,
          118,
          102
         ],
         "xaxis": "x",
         "yaxis": "y"
        },
        {
         "alignmentgroup": "True",
         "bingroup": "x",
         "hovertemplate": "Ano de Lançamento=2012<br>bpm=%{x}<br>count=%{y}<extra></extra>",
         "legendgroup": "2012",
         "marker": {
          "color": "#FF6692",
          "pattern": {
           "shape": ""
          }
         },
         "name": "2012",
         "offsetgroup": "2012",
         "orientation": "v",
         "showlegend": true,
         "type": "histogram",
         "x": [
          124,
          129,
          206,
          144,
          144,
          145,
          180,
          110
         ],
         "xaxis": "x",
         "yaxis": "y"
        },
        {
         "alignmentgroup": "True",
         "bingroup": "x",
         "hovertemplate": "Ano de Lançamento=2011<br>bpm=%{x}<br>count=%{y}<extra></extra>",
         "legendgroup": "2011",
         "marker": {
          "color": "#B6E880",
          "pattern": {
           "shape": ""
          }
         },
         "name": "2011",
         "offsetgroup": "2011",
         "orientation": "v",
         "showlegend": true,
         "type": "histogram",
         "x": [
          112,
          108,
          146,
          150,
          100,
          93,
          151,
          162
         ],
         "xaxis": "x",
         "yaxis": "y"
        },
        {
         "alignmentgroup": "True",
         "bingroup": "x",
         "hovertemplate": "Ano de Lançamento=2004<br>bpm=%{x}<br>count=%{y}<extra></extra>",
         "legendgroup": "2004",
         "marker": {
          "color": "#FF97FF",
          "pattern": {
           "shape": ""
          }
         },
         "name": "2004",
         "offsetgroup": "2004",
         "orientation": "v",
         "showlegend": true,
         "type": "histogram",
         "x": [
          84,
          172,
          96,
          95
         ],
         "xaxis": "x",
         "yaxis": "y"
        },
        {
         "alignmentgroup": "True",
         "bingroup": "x",
         "hovertemplate": "Ano de Lançamento=2021<br>bpm=%{x}<br>count=%{y}<extra></extra>",
         "legendgroup": "2021",
         "marker": {
          "color": "#FECB52",
          "pattern": {
           "shape": ""
          }
         },
         "name": "2021",
         "offsetgroup": "2021",
         "orientation": "v",
         "showlegend": true,
         "type": "histogram",
         "x": [
          114,
          92,
          154,
          130,
          202,
          105,
          141,
          131,
          170,
          105,
          150,
          180,
          121,
          108,
          107,
          90,
          122,
          125,
          130,
          121,
          166,
          130,
          180,
          88,
          97,
          170,
          140,
          118,
          65,
          120,
          176,
          180,
          144,
          133,
          93,
          88,
          170,
          78,
          73,
          176,
          82,
          123,
          90,
          96,
          98,
          110,
          110,
          110,
          129,
          181,
          144,
          84,
          154,
          148,
          146,
          120,
          136,
          141,
          94,
          122,
          120,
          120,
          106,
          169,
          118,
          92,
          178,
          108,
          173,
          101,
          133,
          120,
          124,
          161,
          81,
          105,
          79,
          121,
          136,
          102,
          77,
          102,
          168,
          94,
          134,
          172,
          120,
          125,
          123,
          81,
          125,
          122,
          92,
          90,
          160,
          172,
          80,
          92,
          140,
          139,
          92,
          180,
          129,
          164,
          138,
          145,
          124,
          105,
          138,
          90
         ],
         "xaxis": "x",
         "yaxis": "y"
        },
        {
         "alignmentgroup": "True",
         "bingroup": "x",
         "hovertemplate": "Ano de Lançamento=2007<br>bpm=%{x}<br>count=%{y}<extra></extra>",
         "legendgroup": "2007",
         "marker": {
          "color": "#636EFA",
          "pattern": {
           "shape": ""
          }
         },
         "name": "2007",
         "offsetgroup": "2007",
         "orientation": "v",
         "showlegend": true,
         "type": "histogram",
         "x": [
          140
         ],
         "xaxis": "x",
         "yaxis": "y"
        },
        {
         "alignmentgroup": "True",
         "bingroup": "x",
         "hovertemplate": "Ano de Lançamento=2002<br>bpm=%{x}<br>count=%{y}<extra></extra>",
         "legendgroup": "2002",
         "marker": {
          "color": "#EF553B",
          "pattern": {
           "shape": ""
          }
         },
         "name": "2002",
         "offsetgroup": "2002",
         "orientation": "v",
         "showlegend": true,
         "type": "histogram",
         "x": [
          112,
          130,
          171
         ],
         "xaxis": "x",
         "yaxis": "y"
        },
        {
         "alignmentgroup": "True",
         "bingroup": "x",
         "hovertemplate": "Ano de Lançamento=2019<br>bpm=%{x}<br>count=%{y}<extra></extra>",
         "legendgroup": "2019",
         "marker": {
          "color": "#00CC96",
          "pattern": {
           "shape": ""
          }
         },
         "name": "2019",
         "offsetgroup": "2019",
         "orientation": "v",
         "showlegend": true,
         "type": "histogram",
         "x": [
          120,
          117,
          150,
          96,
          176,
          120,
          93,
          120,
          101,
          112,
          150,
          72,
          90,
          91,
          141,
          145,
          89,
          80,
          99,
          98,
          110,
          140,
          176,
          92
         ],
         "xaxis": "x",
         "yaxis": "y"
        },
        {
         "alignmentgroup": "True",
         "bingroup": "x",
         "hovertemplate": "Ano de Lançamento=2010<br>bpm=%{x}<br>count=%{y}<extra></extra>",
         "legendgroup": "2010",
         "marker": {
          "color": "#AB63FA",
          "pattern": {
           "shape": ""
          }
         },
         "name": "2010",
         "offsetgroup": "2010",
         "orientation": "v",
         "showlegend": true,
         "type": "histogram",
         "x": [
          130,
          164,
          81,
          109,
          95,
          146
         ],
         "xaxis": "x",
         "yaxis": "y"
        },
        {
         "alignmentgroup": "True",
         "bingroup": "x",
         "hovertemplate": "Ano de Lançamento=2018<br>bpm=%{x}<br>count=%{y}<extra></extra>",
         "legendgroup": "2018",
         "marker": {
          "color": "#FFA15A",
          "pattern": {
           "shape": ""
          }
         },
         "name": "2018",
         "offsetgroup": "2018",
         "orientation": "v",
         "showlegend": true,
         "type": "histogram",
         "x": [
          150,
          114,
          134,
          94,
          146,
          89,
          130
         ],
         "xaxis": "x",
         "yaxis": "y"
        },
        {
         "alignmentgroup": "True",
         "bingroup": "x",
         "hovertemplate": "Ano de Lançamento=2013<br>bpm=%{x}<br>count=%{y}<extra></extra>",
         "legendgroup": "2013",
         "marker": {
          "color": "#19D3F3",
          "pattern": {
           "shape": ""
          }
         },
         "name": "2013",
         "offsetgroup": "2013",
         "orientation": "v",
         "showlegend": true,
         "type": "histogram",
         "x": [
          92,
          129,
          133,
          160,
          120,
          115,
          81,
          149
         ],
         "xaxis": "x",
         "yaxis": "y"
        },
        {
         "alignmentgroup": "True",
         "bingroup": "x",
         "hovertemplate": "Ano de Lançamento=2000<br>bpm=%{x}<br>count=%{y}<extra></extra>",
         "legendgroup": "2000",
         "marker": {
          "color": "#FF6692",
          "pattern": {
           "shape": ""
          }
         },
         "name": "2000",
         "offsetgroup": "2000",
         "orientation": "v",
         "showlegend": true,
         "type": "histogram",
         "x": [
          104,
          105,
          147,
          103
         ],
         "xaxis": "x",
         "yaxis": "y"
        },
        {
         "alignmentgroup": "True",
         "bingroup": "x",
         "hovertemplate": "Ano de Lançamento=1997<br>bpm=%{x}<br>count=%{y}<extra></extra>",
         "legendgroup": "1997",
         "marker": {
          "color": "#B6E880",
          "pattern": {
           "shape": ""
          }
         },
         "name": "1997",
         "offsetgroup": "1997",
         "orientation": "v",
         "showlegend": true,
         "type": "histogram",
         "x": [
          144
         ],
         "xaxis": "x",
         "yaxis": "y"
        },
        {
         "alignmentgroup": "True",
         "bingroup": "x",
         "hovertemplate": "Ano de Lançamento=1995<br>bpm=%{x}<br>count=%{y}<extra></extra>",
         "legendgroup": "1995",
         "marker": {
          "color": "#FF97FF",
          "pattern": {
           "shape": ""
          }
         },
         "name": "1995",
         "offsetgroup": "1995",
         "orientation": "v",
         "showlegend": true,
         "type": "histogram",
         "x": [
          80,
          92
         ],
         "xaxis": "x",
         "yaxis": "y"
        },
        {
         "alignmentgroup": "True",
         "bingroup": "x",
         "hovertemplate": "Ano de Lançamento=2015<br>bpm=%{x}<br>count=%{y}<extra></extra>",
         "legendgroup": "2015",
         "marker": {
          "color": "#FECB52",
          "pattern": {
           "shape": ""
          }
         },
         "name": "2015",
         "offsetgroup": "2015",
         "orientation": "v",
         "showlegend": true,
         "type": "histogram",
         "x": [
          136,
          147,
          166,
          85,
          101,
          114
         ],
         "xaxis": "x",
         "yaxis": "y"
        },
        {
         "alignmentgroup": "True",
         "bingroup": "x",
         "hovertemplate": "Ano de Lançamento=1985<br>bpm=%{x}<br>count=%{y}<extra></extra>",
         "legendgroup": "1985",
         "marker": {
          "color": "#636EFA",
          "pattern": {
           "shape": ""
          }
         },
         "name": "1985",
         "offsetgroup": "1985",
         "orientation": "v",
         "showlegend": true,
         "type": "histogram",
         "x": [
          108
         ],
         "xaxis": "x",
         "yaxis": "y"
        },
        {
         "alignmentgroup": "True",
         "bingroup": "x",
         "hovertemplate": "Ano de Lançamento=1986<br>bpm=%{x}<br>count=%{y}<extra></extra>",
         "legendgroup": "1986",
         "marker": {
          "color": "#EF553B",
          "pattern": {
           "shape": ""
          }
         },
         "name": "1986",
         "offsetgroup": "1986",
         "orientation": "v",
         "showlegend": true,
         "type": "histogram",
         "x": [
          180
         ],
         "xaxis": "x",
         "yaxis": "y"
        },
        {
         "alignmentgroup": "True",
         "bingroup": "x",
         "hovertemplate": "Ano de Lançamento=2005<br>bpm=%{x}<br>count=%{y}<extra></extra>",
         "legendgroup": "2005",
         "marker": {
          "color": "#00CC96",
          "pattern": {
           "shape": ""
          }
         },
         "name": "2005",
         "offsetgroup": "2005",
         "orientation": "v",
         "showlegend": true,
         "type": "histogram",
         "x": [
          93
         ],
         "xaxis": "x",
         "yaxis": "y"
        },
        {
         "alignmentgroup": "True",
         "bingroup": "x",
         "hovertemplate": "Ano de Lançamento=1999<br>bpm=%{x}<br>count=%{y}<extra></extra>",
         "legendgroup": "1999",
         "marker": {
          "color": "#AB63FA",
          "pattern": {
           "shape": ""
          }
         },
         "name": "1999",
         "offsetgroup": "1999",
         "orientation": "v",
         "showlegend": true,
         "type": "histogram",
         "x": [
          134,
          80
         ],
         "xaxis": "x",
         "yaxis": "y"
        },
        {
         "alignmentgroup": "True",
         "bingroup": "x",
         "hovertemplate": "Ano de Lançamento=1996<br>bpm=%{x}<br>count=%{y}<extra></extra>",
         "legendgroup": "1996",
         "marker": {
          "color": "#FFA15A",
          "pattern": {
           "shape": ""
          }
         },
         "name": "1996",
         "offsetgroup": "1996",
         "orientation": "v",
         "showlegend": true,
         "type": "histogram",
         "x": [
          88
         ],
         "xaxis": "x",
         "yaxis": "y"
        },
        {
         "alignmentgroup": "True",
         "bingroup": "x",
         "hovertemplate": "Ano de Lançamento=1998<br>bpm=%{x}<br>count=%{y}<extra></extra>",
         "legendgroup": "1998",
         "marker": {
          "color": "#19D3F3",
          "pattern": {
           "shape": ""
          }
         },
         "name": "1998",
         "offsetgroup": "1998",
         "orientation": "v",
         "showlegend": true,
         "type": "histogram",
         "x": [
          156
         ],
         "xaxis": "x",
         "yaxis": "y"
        },
        {
         "alignmentgroup": "True",
         "bingroup": "x",
         "hovertemplate": "Ano de Lançamento=2008<br>bpm=%{x}<br>count=%{y}<extra></extra>",
         "legendgroup": "2008",
         "marker": {
          "color": "#FF6692",
          "pattern": {
           "shape": ""
          }
         },
         "name": "2008",
         "offsetgroup": "2008",
         "orientation": "v",
         "showlegend": true,
         "type": "histogram",
         "x": [
          88
         ],
         "xaxis": "x",
         "yaxis": "y"
        }
       ],
       "layout": {
        "barmode": "relative",
        "legend": {
         "title": {
          "text": "Ano de Lançamento"
         },
         "tracegroupgap": 0
        },
        "template": {
         "data": {
          "bar": [
           {
            "error_x": {
             "color": "#2a3f5f"
            },
            "error_y": {
             "color": "#2a3f5f"
            },
            "marker": {
             "line": {
              "color": "#E5ECF6",
              "width": 0.5
             },
             "pattern": {
              "fillmode": "overlay",
              "size": 10,
              "solidity": 0.2
             }
            },
            "type": "bar"
           }
          ],
          "barpolar": [
           {
            "marker": {
             "line": {
              "color": "#E5ECF6",
              "width": 0.5
             },
             "pattern": {
              "fillmode": "overlay",
              "size": 10,
              "solidity": 0.2
             }
            },
            "type": "barpolar"
           }
          ],
          "carpet": [
           {
            "aaxis": {
             "endlinecolor": "#2a3f5f",
             "gridcolor": "white",
             "linecolor": "white",
             "minorgridcolor": "white",
             "startlinecolor": "#2a3f5f"
            },
            "baxis": {
             "endlinecolor": "#2a3f5f",
             "gridcolor": "white",
             "linecolor": "white",
             "minorgridcolor": "white",
             "startlinecolor": "#2a3f5f"
            },
            "type": "carpet"
           }
          ],
          "choropleth": [
           {
            "colorbar": {
             "outlinewidth": 0,
             "ticks": ""
            },
            "type": "choropleth"
           }
          ],
          "contour": [
           {
            "colorbar": {
             "outlinewidth": 0,
             "ticks": ""
            },
            "colorscale": [
             [
              0,
              "#0d0887"
             ],
             [
              0.1111111111111111,
              "#46039f"
             ],
             [
              0.2222222222222222,
              "#7201a8"
             ],
             [
              0.3333333333333333,
              "#9c179e"
             ],
             [
              0.4444444444444444,
              "#bd3786"
             ],
             [
              0.5555555555555556,
              "#d8576b"
             ],
             [
              0.6666666666666666,
              "#ed7953"
             ],
             [
              0.7777777777777778,
              "#fb9f3a"
             ],
             [
              0.8888888888888888,
              "#fdca26"
             ],
             [
              1,
              "#f0f921"
             ]
            ],
            "type": "contour"
           }
          ],
          "contourcarpet": [
           {
            "colorbar": {
             "outlinewidth": 0,
             "ticks": ""
            },
            "type": "contourcarpet"
           }
          ],
          "heatmap": [
           {
            "colorbar": {
             "outlinewidth": 0,
             "ticks": ""
            },
            "colorscale": [
             [
              0,
              "#0d0887"
             ],
             [
              0.1111111111111111,
              "#46039f"
             ],
             [
              0.2222222222222222,
              "#7201a8"
             ],
             [
              0.3333333333333333,
              "#9c179e"
             ],
             [
              0.4444444444444444,
              "#bd3786"
             ],
             [
              0.5555555555555556,
              "#d8576b"
             ],
             [
              0.6666666666666666,
              "#ed7953"
             ],
             [
              0.7777777777777778,
              "#fb9f3a"
             ],
             [
              0.8888888888888888,
              "#fdca26"
             ],
             [
              1,
              "#f0f921"
             ]
            ],
            "type": "heatmap"
           }
          ],
          "heatmapgl": [
           {
            "colorbar": {
             "outlinewidth": 0,
             "ticks": ""
            },
            "colorscale": [
             [
              0,
              "#0d0887"
             ],
             [
              0.1111111111111111,
              "#46039f"
             ],
             [
              0.2222222222222222,
              "#7201a8"
             ],
             [
              0.3333333333333333,
              "#9c179e"
             ],
             [
              0.4444444444444444,
              "#bd3786"
             ],
             [
              0.5555555555555556,
              "#d8576b"
             ],
             [
              0.6666666666666666,
              "#ed7953"
             ],
             [
              0.7777777777777778,
              "#fb9f3a"
             ],
             [
              0.8888888888888888,
              "#fdca26"
             ],
             [
              1,
              "#f0f921"
             ]
            ],
            "type": "heatmapgl"
           }
          ],
          "histogram": [
           {
            "marker": {
             "pattern": {
              "fillmode": "overlay",
              "size": 10,
              "solidity": 0.2
             }
            },
            "type": "histogram"
           }
          ],
          "histogram2d": [
           {
            "colorbar": {
             "outlinewidth": 0,
             "ticks": ""
            },
            "colorscale": [
             [
              0,
              "#0d0887"
             ],
             [
              0.1111111111111111,
              "#46039f"
             ],
             [
              0.2222222222222222,
              "#7201a8"
             ],
             [
              0.3333333333333333,
              "#9c179e"
             ],
             [
              0.4444444444444444,
              "#bd3786"
             ],
             [
              0.5555555555555556,
              "#d8576b"
             ],
             [
              0.6666666666666666,
              "#ed7953"
             ],
             [
              0.7777777777777778,
              "#fb9f3a"
             ],
             [
              0.8888888888888888,
              "#fdca26"
             ],
             [
              1,
              "#f0f921"
             ]
            ],
            "type": "histogram2d"
           }
          ],
          "histogram2dcontour": [
           {
            "colorbar": {
             "outlinewidth": 0,
             "ticks": ""
            },
            "colorscale": [
             [
              0,
              "#0d0887"
             ],
             [
              0.1111111111111111,
              "#46039f"
             ],
             [
              0.2222222222222222,
              "#7201a8"
             ],
             [
              0.3333333333333333,
              "#9c179e"
             ],
             [
              0.4444444444444444,
              "#bd3786"
             ],
             [
              0.5555555555555556,
              "#d8576b"
             ],
             [
              0.6666666666666666,
              "#ed7953"
             ],
             [
              0.7777777777777778,
              "#fb9f3a"
             ],
             [
              0.8888888888888888,
              "#fdca26"
             ],
             [
              1,
              "#f0f921"
             ]
            ],
            "type": "histogram2dcontour"
           }
          ],
          "mesh3d": [
           {
            "colorbar": {
             "outlinewidth": 0,
             "ticks": ""
            },
            "type": "mesh3d"
           }
          ],
          "parcoords": [
           {
            "line": {
             "colorbar": {
              "outlinewidth": 0,
              "ticks": ""
             }
            },
            "type": "parcoords"
           }
          ],
          "pie": [
           {
            "automargin": true,
            "type": "pie"
           }
          ],
          "scatter": [
           {
            "fillpattern": {
             "fillmode": "overlay",
             "size": 10,
             "solidity": 0.2
            },
            "type": "scatter"
           }
          ],
          "scatter3d": [
           {
            "line": {
             "colorbar": {
              "outlinewidth": 0,
              "ticks": ""
             }
            },
            "marker": {
             "colorbar": {
              "outlinewidth": 0,
              "ticks": ""
             }
            },
            "type": "scatter3d"
           }
          ],
          "scattercarpet": [
           {
            "marker": {
             "colorbar": {
              "outlinewidth": 0,
              "ticks": ""
             }
            },
            "type": "scattercarpet"
           }
          ],
          "scattergeo": [
           {
            "marker": {
             "colorbar": {
              "outlinewidth": 0,
              "ticks": ""
             }
            },
            "type": "scattergeo"
           }
          ],
          "scattergl": [
           {
            "marker": {
             "colorbar": {
              "outlinewidth": 0,
              "ticks": ""
             }
            },
            "type": "scattergl"
           }
          ],
          "scattermapbox": [
           {
            "marker": {
             "colorbar": {
              "outlinewidth": 0,
              "ticks": ""
             }
            },
            "type": "scattermapbox"
           }
          ],
          "scatterpolar": [
           {
            "marker": {
             "colorbar": {
              "outlinewidth": 0,
              "ticks": ""
             }
            },
            "type": "scatterpolar"
           }
          ],
          "scatterpolargl": [
           {
            "marker": {
             "colorbar": {
              "outlinewidth": 0,
              "ticks": ""
             }
            },
            "type": "scatterpolargl"
           }
          ],
          "scatterternary": [
           {
            "marker": {
             "colorbar": {
              "outlinewidth": 0,
              "ticks": ""
             }
            },
            "type": "scatterternary"
           }
          ],
          "surface": [
           {
            "colorbar": {
             "outlinewidth": 0,
             "ticks": ""
            },
            "colorscale": [
             [
              0,
              "#0d0887"
             ],
             [
              0.1111111111111111,
              "#46039f"
             ],
             [
              0.2222222222222222,
              "#7201a8"
             ],
             [
              0.3333333333333333,
              "#9c179e"
             ],
             [
              0.4444444444444444,
              "#bd3786"
             ],
             [
              0.5555555555555556,
              "#d8576b"
             ],
             [
              0.6666666666666666,
              "#ed7953"
             ],
             [
              0.7777777777777778,
              "#fb9f3a"
             ],
             [
              0.8888888888888888,
              "#fdca26"
             ],
             [
              1,
              "#f0f921"
             ]
            ],
            "type": "surface"
           }
          ],
          "table": [
           {
            "cells": {
             "fill": {
              "color": "#EBF0F8"
             },
             "line": {
              "color": "white"
             }
            },
            "header": {
             "fill": {
              "color": "#C8D4E3"
             },
             "line": {
              "color": "white"
             }
            },
            "type": "table"
           }
          ]
         },
         "layout": {
          "annotationdefaults": {
           "arrowcolor": "#2a3f5f",
           "arrowhead": 0,
           "arrowwidth": 1
          },
          "autotypenumbers": "strict",
          "coloraxis": {
           "colorbar": {
            "outlinewidth": 0,
            "ticks": ""
           }
          },
          "colorscale": {
           "diverging": [
            [
             0,
             "#8e0152"
            ],
            [
             0.1,
             "#c51b7d"
            ],
            [
             0.2,
             "#de77ae"
            ],
            [
             0.3,
             "#f1b6da"
            ],
            [
             0.4,
             "#fde0ef"
            ],
            [
             0.5,
             "#f7f7f7"
            ],
            [
             0.6,
             "#e6f5d0"
            ],
            [
             0.7,
             "#b8e186"
            ],
            [
             0.8,
             "#7fbc41"
            ],
            [
             0.9,
             "#4d9221"
            ],
            [
             1,
             "#276419"
            ]
           ],
           "sequential": [
            [
             0,
             "#0d0887"
            ],
            [
             0.1111111111111111,
             "#46039f"
            ],
            [
             0.2222222222222222,
             "#7201a8"
            ],
            [
             0.3333333333333333,
             "#9c179e"
            ],
            [
             0.4444444444444444,
             "#bd3786"
            ],
            [
             0.5555555555555556,
             "#d8576b"
            ],
            [
             0.6666666666666666,
             "#ed7953"
            ],
            [
             0.7777777777777778,
             "#fb9f3a"
            ],
            [
             0.8888888888888888,
             "#fdca26"
            ],
            [
             1,
             "#f0f921"
            ]
           ],
           "sequentialminus": [
            [
             0,
             "#0d0887"
            ],
            [
             0.1111111111111111,
             "#46039f"
            ],
            [
             0.2222222222222222,
             "#7201a8"
            ],
            [
             0.3333333333333333,
             "#9c179e"
            ],
            [
             0.4444444444444444,
             "#bd3786"
            ],
            [
             0.5555555555555556,
             "#d8576b"
            ],
            [
             0.6666666666666666,
             "#ed7953"
            ],
            [
             0.7777777777777778,
             "#fb9f3a"
            ],
            [
             0.8888888888888888,
             "#fdca26"
            ],
            [
             1,
             "#f0f921"
            ]
           ]
          },
          "colorway": [
           "#636efa",
           "#EF553B",
           "#00cc96",
           "#ab63fa",
           "#FFA15A",
           "#19d3f3",
           "#FF6692",
           "#B6E880",
           "#FF97FF",
           "#FECB52"
          ],
          "font": {
           "color": "#2a3f5f"
          },
          "geo": {
           "bgcolor": "white",
           "lakecolor": "white",
           "landcolor": "#E5ECF6",
           "showlakes": true,
           "showland": true,
           "subunitcolor": "white"
          },
          "hoverlabel": {
           "align": "left"
          },
          "hovermode": "closest",
          "mapbox": {
           "style": "light"
          },
          "paper_bgcolor": "white",
          "plot_bgcolor": "#E5ECF6",
          "polar": {
           "angularaxis": {
            "gridcolor": "white",
            "linecolor": "white",
            "ticks": ""
           },
           "bgcolor": "#E5ECF6",
           "radialaxis": {
            "gridcolor": "white",
            "linecolor": "white",
            "ticks": ""
           }
          },
          "scene": {
           "xaxis": {
            "backgroundcolor": "#E5ECF6",
            "gridcolor": "white",
            "gridwidth": 2,
            "linecolor": "white",
            "showbackground": true,
            "ticks": "",
            "zerolinecolor": "white"
           },
           "yaxis": {
            "backgroundcolor": "#E5ECF6",
            "gridcolor": "white",
            "gridwidth": 2,
            "linecolor": "white",
            "showbackground": true,
            "ticks": "",
            "zerolinecolor": "white"
           },
           "zaxis": {
            "backgroundcolor": "#E5ECF6",
            "gridcolor": "white",
            "gridwidth": 2,
            "linecolor": "white",
            "showbackground": true,
            "ticks": "",
            "zerolinecolor": "white"
           }
          },
          "shapedefaults": {
           "line": {
            "color": "#2a3f5f"
           }
          },
          "ternary": {
           "aaxis": {
            "gridcolor": "white",
            "linecolor": "white",
            "ticks": ""
           },
           "baxis": {
            "gridcolor": "white",
            "linecolor": "white",
            "ticks": ""
           },
           "bgcolor": "#E5ECF6",
           "caxis": {
            "gridcolor": "white",
            "linecolor": "white",
            "ticks": ""
           }
          },
          "title": {
           "x": 0.05
          },
          "xaxis": {
           "automargin": true,
           "gridcolor": "white",
           "linecolor": "white",
           "ticks": "",
           "title": {
            "standoff": 15
           },
           "zerolinecolor": "white",
           "zerolinewidth": 2
          },
          "yaxis": {
           "automargin": true,
           "gridcolor": "white",
           "linecolor": "white",
           "ticks": "",
           "title": {
            "standoff": 15
           },
           "zerolinecolor": "white",
           "zerolinewidth": 2
          }
         }
        },
        "title": {
         "text": "Distribuição de BPM"
        },
        "xaxis": {
         "anchor": "y",
         "domain": [
          0,
          1
         ],
         "title": {
          "text": "bpm"
         }
        },
        "yaxis": {
         "anchor": "x",
         "domain": [
          0,
          1
         ],
         "title": {
          "text": "Contagem"
         }
        }
       }
      }
     },
     "metadata": {},
     "output_type": "display_data"
    }
   ],
   "source": [
    "import plotly.express as px # Nos da a ferramenta para adcionar o titulo na legenda\n",
    "\n",
    "dist_bpm = px.histogram(\n",
    "    df_novo, \n",
    "    x='bpm', \n",
    "    title='Distribuição de BPM',\n",
    "    color='released_year',\n",
    "    color_discrete_sequence=px.colors.qualitative.Plotly, \n",
    "    labels={'released_year': 'Ano de Lançamento'} \n",
    ")\n",
    "\n",
    "# Atualizando o layout para alterar o rótulo do eixo y\n",
    "dist_bpm.update_layout(yaxis_title='Contagem')\n",
    "\n",
    "\n",
    "dist_bpm.show()"
   ]
  },
  {
   "cell_type": "code",
   "execution_count": 16,
   "metadata": {},
   "outputs": [],
   "source": [
    "# A maior parte das músicas está concentrada na faixa de 80 a 140 BPM, o que é comum, pois essa faixa é associada a ritmos moderados e mais dançantes, adequados para uma ampla gama de gêneros musicais.\n",
    "# Músicas mais recentes (2022-2023) dominam a distribuição, o que pode ser uma consequência natural de uma maior quantidade de músicas lançadas ou mais registros de dados desses anos nas plataformas digitais.\n",
    "\n",
    "\n"
   ]
  },
  {
   "cell_type": "markdown",
   "metadata": {},
   "source": [
    "# Os artistas solo estão dominando o mercado? | As colaborações estão prejudicando a popularidade?"
   ]
  },
  {
   "cell_type": "code",
   "execution_count": 25,
   "metadata": {},
   "outputs": [
    {
     "name": "stderr",
     "output_type": "stream",
     "text": [
      "C:\\Users\\victo\\AppData\\Local\\Temp\\ipykernel_24328\\743129292.py:1: SettingWithCopyWarning:\n",
      "\n",
      "\n",
      "A value is trying to be set on a copy of a slice from a DataFrame.\n",
      "Try using .loc[row_indexer,col_indexer] = value instead\n",
      "\n",
      "See the caveats in the documentation: https://pandas.pydata.org/pandas-docs/stable/user_guide/indexing.html#returning-a-view-versus-a-copy\n",
      "\n"
     ]
    }
   ],
   "source": [
    "df_novo['streams'] = df_novo['streams'].astype(float)"
   ]
  },
  {
   "cell_type": "code",
   "execution_count": 28,
   "metadata": {},
   "outputs": [
    {
     "name": "stdout",
     "output_type": "stream",
     "text": [
      "artist_count\n",
      "1    480\n",
      "2    216\n",
      "3     70\n",
      "4     13\n",
      "Name: count, dtype: int64\n"
     ]
    },
    {
     "data": {
      "image/png": "[encoded data removed]",
      "text/plain": [
       "<Figure size 640x480 with 1 Axes>"
      ]
     },
     "metadata": {},
     "output_type": "display_data"
    }
   ],
   "source": [
    "from matplotlib.ticker import ScalarFormatter\n",
    "\n",
    "# Contar a frequência de músicas com 1, 2, 3 e 4 artistas\n",
    "frequencia_artistas = df_novo['artist_count'].value_counts()\n",
    "\n",
    "# Exibir os resultados\n",
    "print(frequencia_artistas)\n",
    "\n",
    "df_novo.groupby('artist_count')['streams'].mean().plot(kind='bar', color='skyblue', edgecolor='black')\n",
    "sns.set(style=\"whitegrid\")\n",
    "plt.title('Popularidade: Artistas Solo vs Colaborações', fontsize=14, weight='bold')\n",
    "plt.ylabel('Média de Streams', fontsize=12)\n",
    "plt.xlabel('Número de Artistas', fontsize=12)\n",
    "plt.xticks(rotation=0, fontsize=10)\n",
    "\n",
    "# Ajustar os números do eixo y para um formato mais legível (sem notação científica)\n",
    "plt.ticklabel_format(style='plain', axis='y')\n",
    "# Configurar o eixo y para exibir notação científica (1*10^8)\n",
    "plt.gca().yaxis.set_major_formatter(ScalarFormatter(useMathText=True))\n",
    "plt.ticklabel_format(style='sci', axis='y', scilimits=(8,8))\n",
    "\n",
    "# Adicionar espaçamento para evitar que os rótulos fiquem cortados\n",
    "plt.tight_layout()\n",
    "\n",
    "# Exibir o gráfico\n",
    "plt.show()\n",
    "# Mostrar o gráfico\n",
    "\n",
    "plt.show()"
   ]
  },
  {
   "cell_type": "code",
   "execution_count": null,
   "metadata": {},
   "outputs": [],
   "source": [
    "#As músicas com um único artista possuem a maior média de streams, em torno de 500 milhões.\n",
    "#Logo, músicas de artistas solo tendem a ter mais popularidade (ou mais streams) em comparação com colaborações.\n",
    "\n",
    "#O número muito menor de músicas com 4 artistas sugere que essas colaborações são raras, o que pode afetar a média de streams. Porém, quando essas colaborações ocorrem, \n",
    "# elas ainda podem ser bastante populares em termos absolutos, considerando que são poucas e tendem a atrair atenção por reunir vários artistas importantes.\n",
    "\n",
    "# Portanto, embora músicas solo tenham uma grande vantagem em termos de quantidade e streams médios, colaborações maiores não devem ser descartadas, \n",
    "# pois têm o potencial de serem populares em casos específicos, mesmo que sua média seja influenciada pela baixa representatividade na amostra."
   ]
  },
  {
   "cell_type": "markdown",
   "metadata": {},
   "source": [
    "# Músicas presentes em várias plataformas (Spotify, Apple Music, Deezer) têm melhor desempenho em termos de streams?\n"
   ]
  },
  {
   "cell_type": "code",
   "execution_count": null,
   "metadata": {},
   "outputs": [],
   "source": [
    "df_novo['in_spotify_playlists'] = df_novo['in_spotify_playlists'].astype(float)\n",
    "df_novo['in_apple_playlists'] = df_novo['in_apple_playlists'].astype(float)\n",
    "\n",
    "df_novo['in_deezer_playlists']= df_novo['in_deezer_playlists'].apply(lambda x: x.replace(',','.')) \n",
    "df_novo['in_deezer_playlists'] = df_novo['in_deezer_playlists'].astype(float)"
   ]
  },
  {
   "cell_type": "code",
   "execution_count": 40,
   "metadata": {},
   "outputs": [
    {
     "name": "stdout",
     "output_type": "stream",
     "text": [
      "in_multiple_platforms\n",
      "True     740\n",
      "False     39\n",
      "Name: count, dtype: int64\n"
     ]
    },
    {
     "name": "stderr",
     "output_type": "stream",
     "text": [
      "C:\\Users\\victo\\AppData\\Local\\Temp\\ipykernel_24328\\532860114.py:1: SettingWithCopyWarning:\n",
      "\n",
      "\n",
      "A value is trying to be set on a copy of a slice from a DataFrame.\n",
      "Try using .loc[row_indexer,col_indexer] = value instead\n",
      "\n",
      "See the caveats in the documentation: https://pandas.pydata.org/pandas-docs/stable/user_guide/indexing.html#returning-a-view-versus-a-copy\n",
      "\n"
     ]
    },
    {
     "data": {
      "image/png": "[encoded data removed]",
      "text/plain": [
       "<Figure size 640x480 with 1 Axes>"
      ]
     },
     "metadata": {},
     "output_type": "display_data"
    }
   ],
   "source": [
    "df_novo['in_multiple_platforms'] = (df_novo['in_spotify_playlists'] > 0) & (df_novo['in_apple_playlists'] > 0) & (df_novo['in_deezer_playlists'] > 0)\n",
    "df_novo.groupby('in_multiple_platforms')['streams'].mean().plot(kind='bar', title='Popularidade: Músicas em Múltiplas Plataformas')\n",
    "\n",
    "freqquencia_mult = df_novo['in_multiple_platforms'].value_counts()\n",
    "print(freqquencia_mult)\n",
    "\n",
    "sns.set(style=\"whitegrid\")\n",
    "# Fazendo o gráfico de barras com cores mais vivas e borda nas barras\n",
    "df_novo.groupby('in_multiple_platforms')['streams'].mean().plot(\n",
    "    kind='bar', color=['#1f77b4', '#ff7f0e'], edgecolor='black')\n",
    "\n",
    "plt.title('Popularidade: Músicas em Múltiplas Plataformas', fontsize=16, weight='bold')\n",
    "plt.ylabel('Média de Streams', fontsize=12)\n",
    "plt.xlabel('Presença em Múltiplas Plataformas', fontsize=12)\n",
    "\n",
    "# Adicionando rótulos mais informativos ao eixo x\n",
    "plt.xticks(ticks=[0, 1], labels=['Não', 'Sim'], fontsize=11)\n",
    "\n",
    "# Formatando os números no eixo y para notação científica (sem notação científica exagerada)\n",
    "plt.ticklabel_format(style='plain', axis='y')\n",
    "\n",
    "# Adicionando grade para facilitar a visualização dos dados\n",
    "plt.grid(True, axis='y', linestyle='--', alpha=0.7)\n",
    "\n",
    "plt.tight_layout()\n",
    "plt.show()"
   ]
  },
  {
   "cell_type": "code",
   "execution_count": null,
   "metadata": {},
   "outputs": [],
   "source": [
    "# Temos que\n",
    "# 73 músicas estão presentes em menos de três plataformas (ou seja, em apenas uma ou duas plataformas).\n",
    "\n",
    "# Isso indica que a maioria das músicas da amostra está disponível em mais de uma plataforma, \n",
    "# sugerindo que a distribuição por múltiplas plataformas é uma estratégia comum para os artistas ou gravadoras.\n",
    "\n",
    "# A interpretação inicial da análise pode parecer contra-intuitiva, mas \n",
    "# as músicas presentes em menos plataformas (False) têm uma média de streams significativamente maior do que aquelas distribuídas em múltiplas plataformas\n",
    "\n",
    "# Músicas presentes em menos plataformas podem, em média, gerar mais streams, o que pode estar relacionado a estratégias de exclusividade ou foco em uma única plataforma.\n",
    "# Músicas distribuídas em múltiplas plataformas, embora mais comuns (706 contra 73), têm uma média menor de streams, o que pode indicar que a distribuição ampla dilui a concentração de streams"
   ]
  }
 ],
 "metadata": {
  "kernelspec": {
   "display_name": "base",
   "language": "python",
   "name": "python3"
  },
  "language_info": {
   "codemirror_mode": {
    "name": "ipython",
    "version": 3
   },
   "file_extension": ".py",
   "mimetype": "text/x-python",
   "name": "python",
   "nbconvert_exporter": "python",
   "pygments_lexer": "ipython3",
   "version": "3.12.4"
  }
 },
 "nbformat": 4,
 "nbformat_minor": 2
}
